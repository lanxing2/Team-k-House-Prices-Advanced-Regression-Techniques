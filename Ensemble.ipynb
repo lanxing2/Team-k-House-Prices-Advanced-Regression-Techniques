{
 "cells": [
  {
   "cell_type": "code",
   "execution_count": 1,
   "metadata": {
    "collapsed": false
   },
   "outputs": [
    {
     "name": "stdout",
     "output_type": "stream",
     "text": [
      "<class 'pandas.core.frame.DataFrame'>\n",
      "Int64Index: 1460 entries, 1 to 1460\n",
      "Columns: 263 entries, LotFrontage to SaleCondition__Partial\n",
      "dtypes: float64(231), int64(32)\n",
      "memory usage: 2.9 MB\n"
     ]
    }
   ],
   "source": [
    "# load data\n",
    "import pandas as pd\n",
    "import numpy as np\n",
    "from pandas import DataFrame\n",
    "base_path='D:/kaggle/regression/'\n",
    "all_data=DataFrame.from_csv(base_path+'cleaned_train.csv',index_col='Id')\n",
    "all_data.info()"
   ]
  },
  {
   "cell_type": "code",
   "execution_count": 2,
   "metadata": {
    "collapsed": false
   },
   "outputs": [
    {
     "name": "stdout",
     "output_type": "stream",
     "text": [
      "<class 'pandas.core.frame.DataFrame'>\n",
      "Int64Index: 1460 entries, 1 to 1460\n",
      "Columns: 262 entries, LotFrontage to SaleCondition__Partial\n",
      "dtypes: float64(231), int64(31)\n",
      "memory usage: 2.9 MB\n"
     ]
    }
   ],
   "source": [
    "all_id=all_data.index\n",
    "all_y=all_data['SalePrice']\n",
    "all_x=all_data.drop(['SalePrice'],axis=1)\n",
    "all_x.info()\n",
    "\n",
    "from sklearn.model_selection import train_test_split\n",
    "X_train, X_test, y_train, y_test=train_test_split(all_x, all_y, test_size=0.2, random_state=42)"
   ]
  },
  {
   "cell_type": "code",
   "execution_count": 3,
   "metadata": {
    "collapsed": true
   },
   "outputs": [],
   "source": [
    "from sklearn.metrics import mean_squared_error\n",
    "\n",
    "def rmse_log_error(predict,reality):\n",
    "    predict_log=np.log(predict)\n",
    "    reality_log=np.log(reality)\n",
    "    mse=mean_squared_error(reality_log, predict_log)\n",
    "    rmse=np.sqrt(mse)\n",
    "    return rmse"
   ]
  },
  {
   "cell_type": "code",
   "execution_count": 4,
   "metadata": {
    "collapsed": false
   },
   "outputs": [],
   "source": [
    "from sklearn.ensemble import RandomForestRegressor\n",
    "from sklearn.ensemble import AdaBoostRegressor\n",
    "from sklearn.ensemble import ExtraTreesRegressor\n",
    "\n",
    "# A function to train several models for the train/test pair for one fold\n",
    "# How to tune parameters is out of scope of this script, check out sklearn's GridSearchCV or RandomizedSearchCV\n",
    "def one_fold(train_x,train_y,test_x,test_y):\n",
    "    # Report shape\n",
    "    print \"Training set has shape: \",X_train.shape\n",
    "    print \"Test set has shape: \",X_test.shape\n",
    "\n",
    "    # Random forest with mse\n",
    "    print \"Random forest with mse\"\n",
    "    params={\n",
    "    'n_estimators':[126],\n",
    "    'max_features':[0.5],\n",
    "    'max_depth':[10]\n",
    "        }\n",
    "    rf = RandomForestRegressor(criterion='mse', n_estimators=126,max_features=0.5,max_depth=10,random_state=42)\n",
    "    print \"Fitting random forest with mse\"\n",
    "    rf.fit(train_x, train_y)\n",
    "    print 'Predicting on test set'\n",
    "    rf_result=rf.predict(test_x)\n",
    "    \n",
    "    #print 'Target is ',test_y\n",
    "    #print 'Got ',rf_result\n",
    "    \n",
    "    print('RF RMSE {score}'.format(score=rmse_log_error(test_y, rf_result)))\n",
    "    \n",
    "    # Extra tree regressor\n",
    "    print \"ExtraTreesRegressor\"\n",
    "    et = ExtraTreesRegressor(criterion='mse', n_estimators=180,max_features=0.2,max_depth=28,n_jobs=-1,random_state=42)\n",
    "    print \"Fitting extra trees regressor with mse\"\n",
    "    et.fit(train_x,train_y)\n",
    "    print 'Predicting on test set'\n",
    "    et_result=et.predict(test_x)\n",
    "    \n",
    "    #print 'Target is ',test_y\n",
    "    #print 'Got ',et_result\n",
    "    \n",
    "    print('ET RMSE {score}'.format(score=rmse_log_error(test_y, et_result)))\n",
    "    \n",
    "    # Adaboost\n",
    "    print 'Adaboost linear'\n",
    "    ad=AdaBoostRegressor(loss='linear',learning_rate=0.2,n_estimators=210,random_state=42)\n",
    "    print 'Fitting adaboost linear'\n",
    "    ad.fit(train_x,train_y)\n",
    "    print 'Predicting on test set'\n",
    "    ad_result=ad.predict(test_x)\n",
    "    \n",
    "    #print 'Target is ',test_y\n",
    "    #print 'Got ',ad_result\n",
    "    \n",
    "    print('Adaboost MSE {score}'.format(score=rmse_log_error(test_y, ad_result)))\n",
    "    \n",
    "    \n",
    "    regressors={\n",
    "        'rf':rf,\n",
    "        'et':et,\n",
    "        'ad':ad\n",
    "    }\n",
    "    \n",
    "    return regressors"
   ]
  },
  {
   "cell_type": "code",
   "execution_count": 5,
   "metadata": {
    "collapsed": false
   },
   "outputs": [
    {
     "name": "stdout",
     "output_type": "stream",
     "text": [
      "Training set has shape:  (1168, 262)\n",
      "Test set has shape:  (292, 262)\n",
      "Random forest with mse\n",
      "Fitting random forest with mse\n",
      "Predicting on test set\n",
      "RF RMSE 0.151704956487\n",
      "ExtraTreesRegressor\n",
      "Fitting extra trees regressor with mse\n",
      "Predicting on test set\n",
      "ET RMSE 0.159554597793\n",
      "Adaboost linear\n",
      "Fitting adaboost linear\n",
      "Predicting on test set\n",
      "Adaboost MSE 0.21884931864\n"
     ]
    }
   ],
   "source": [
    "regressors=one_fold(X_train, y_train, X_test, y_test)"
   ]
  },
  {
   "cell_type": "code",
   "execution_count": 6,
   "metadata": {
    "collapsed": false
   },
   "outputs": [
    {
     "name": "stdout",
     "output_type": "stream",
     "text": [
      "This batch contains:  ['rf', 'ad', 'et']\n",
      "End of iteration  0\n"
     ]
    },
    {
     "data": {
      "text/html": [
       "<div>\n",
       "<table border=\"1\" class=\"dataframe\">\n",
       "  <thead>\n",
       "    <tr style=\"text-align: right;\">\n",
       "      <th></th>\n",
       "      <th>rf</th>\n",
       "      <th>ad</th>\n",
       "      <th>et</th>\n",
       "    </tr>\n",
       "  </thead>\n",
       "  <tbody>\n",
       "    <tr>\n",
       "      <th>count</th>\n",
       "      <td>292.000000</td>\n",
       "      <td>292.000000</td>\n",
       "      <td>292.000000</td>\n",
       "    </tr>\n",
       "    <tr>\n",
       "      <th>mean</th>\n",
       "      <td>178431.200438</td>\n",
       "      <td>186703.920696</td>\n",
       "      <td>179022.143654</td>\n",
       "    </tr>\n",
       "    <tr>\n",
       "      <th>std</th>\n",
       "      <td>73248.846370</td>\n",
       "      <td>69423.818990</td>\n",
       "      <td>71460.784868</td>\n",
       "    </tr>\n",
       "    <tr>\n",
       "      <th>min</th>\n",
       "      <td>63847.903728</td>\n",
       "      <td>119165.646259</td>\n",
       "      <td>69520.833333</td>\n",
       "    </tr>\n",
       "    <tr>\n",
       "      <th>25%</th>\n",
       "      <td>126765.907777</td>\n",
       "      <td>131431.501485</td>\n",
       "      <td>127829.240694</td>\n",
       "    </tr>\n",
       "    <tr>\n",
       "      <th>50%</th>\n",
       "      <td>154424.859306</td>\n",
       "      <td>165716.841685</td>\n",
       "      <td>156062.633333</td>\n",
       "    </tr>\n",
       "    <tr>\n",
       "      <th>75%</th>\n",
       "      <td>209801.394072</td>\n",
       "      <td>218838.713041</td>\n",
       "      <td>207618.598611</td>\n",
       "    </tr>\n",
       "    <tr>\n",
       "      <th>max</th>\n",
       "      <td>562652.378571</td>\n",
       "      <td>557264.052265</td>\n",
       "      <td>480795.877778</td>\n",
       "    </tr>\n",
       "  </tbody>\n",
       "</table>\n",
       "</div>"
      ],
      "text/plain": [
       "                  rf             ad             et\n",
       "count     292.000000     292.000000     292.000000\n",
       "mean   178431.200438  186703.920696  179022.143654\n",
       "std     73248.846370   69423.818990   71460.784868\n",
       "min     63847.903728  119165.646259   69520.833333\n",
       "25%    126765.907777  131431.501485  127829.240694\n",
       "50%    154424.859306  165716.841685  156062.633333\n",
       "75%    209801.394072  218838.713041  207618.598611\n",
       "max    562652.378571  557264.052265  480795.877778"
      ]
     },
     "execution_count": 6,
     "metadata": {},
     "output_type": "execute_result"
    }
   ],
   "source": [
    "# The predictions then form the training samples for an L2 model as an ensemble.\n",
    "l2_train=pd.DataFrame()\n",
    "l2_test=pd.DataFrame()\n",
    "for i in range(1):\n",
    "    clf_names=['rf','ad','et'] # find classifiers by name\n",
    "    print \"This batch contains: \",clf_names\n",
    "    for clf_name in clf_names:\n",
    "        clf=regressors[clf_name]\n",
    "            \n",
    "        # Train\n",
    "        this_y=clf.predict(X_train)\n",
    "        l2_train[clf_name]=this_y\n",
    "        \n",
    "        # Test\n",
    "        this_y_cv=clf.predict(X_test)\n",
    "        l2_test[clf_name]=this_y_cv\n",
    "        \n",
    "    print \"End of iteration \",i\n",
    "\n",
    "# Append the target\n",
    "# l2_train['SalePrice']=y_train\n",
    "# l2_test['SalePrice']=y_test\n",
    "\n",
    "l2_train.describe()\n",
    "l2_test.describe()"
   ]
  },
  {
   "cell_type": "code",
   "execution_count": 7,
   "metadata": {
    "collapsed": false
   },
   "outputs": [
    {
     "name": "stdout",
     "output_type": "stream",
     "text": [
      "LR RMSE score: 0.159557296817\n"
     ]
    }
   ],
   "source": [
    "# Ensemble method 1: Logistic regression\n",
    "from sklearn.linear_model import LinearRegression\n",
    "\n",
    "l2_lr=LinearRegression()\n",
    "l2_lr.fit(l2_train,y_train)\n",
    "l2_lr_pred=l2_lr.predict(l2_test)\n",
    "print('LR RMSE score: {score}'.format(score=rmse_log_error(y_test, l2_lr_pred)))"
   ]
  },
  {
   "cell_type": "code",
   "execution_count": 10,
   "metadata": {
    "collapsed": false
   },
   "outputs": [],
   "source": [
    "# Load target data to predict\n",
    "base_path='D:/kaggle/regression/'\n",
    "target_data=DataFrame.from_csv(base_path+'cleaned_test.csv',index_col='Id')\n",
    "target_data=target_data.drop(['SalePrice'],axis=1)"
   ]
  },
  {
   "cell_type": "code",
   "execution_count": 11,
   "metadata": {
    "collapsed": false
   },
   "outputs": [
    {
     "name": "stdout",
     "output_type": "stream",
     "text": [
      "This batch contains:  ['rf', 'ad', 'et']\n",
      "End of iteration  0\n"
     ]
    }
   ],
   "source": [
    "# Generate L2 for test\n",
    "l2_target=pd.DataFrame()\n",
    "for i in range(1):\n",
    "    clf_names=['rf','ad','et'] # find classifiers by name\n",
    "    print \"This batch contains: \",clf_names\n",
    "    for clf_name in clf_names:\n",
    "        clf=regressors[clf_name]\n",
    "        \n",
    "        this_y=clf.predict(target_data)\n",
    "        l2_target[clf_name]=this_y\n",
    "        \n",
    "    print \"End of iteration \",i"
   ]
  },
  {
   "cell_type": "code",
   "execution_count": 13,
   "metadata": {
    "collapsed": false
   },
   "outputs": [
    {
     "data": {
      "text/plain": [
       "count      1459.000000\n",
       "mean     179256.079999\n",
       "std       68934.180289\n",
       "min       55025.858421\n",
       "25%      131492.258922\n",
       "50%      159540.840510\n",
       "75%      208405.733719\n",
       "max      458751.979009\n",
       "dtype: float64"
      ]
     },
     "execution_count": 13,
     "metadata": {},
     "output_type": "execute_result"
    }
   ],
   "source": [
    "# Predict with L2 LR\n",
    "target_y=l2_lr.predict(l2_target)\n",
    "\n",
    "# Inspect\n",
    "y_df=pd.Series(target_y)\n",
    "y_df.describe()"
   ]
  },
  {
   "cell_type": "code",
   "execution_count": 17,
   "metadata": {
    "collapsed": false
   },
   "outputs": [
    {
     "data": {
      "text/plain": [
       "Int64Index([1461, 1462, 1463, 1464, 1465, 1466, 1467, 1468, 1469, 1470,\n",
       "            ...\n",
       "            2910, 2911, 2912, 2913, 2914, 2915, 2916, 2917, 2918, 2919],\n",
       "           dtype='int64', name=u'Id', length=1459)"
      ]
     },
     "execution_count": 17,
     "metadata": {},
     "output_type": "execute_result"
    }
   ],
   "source": [
    "target_data.index"
   ]
  },
  {
   "cell_type": "code",
   "execution_count": 19,
   "metadata": {
    "collapsed": false
   },
   "outputs": [],
   "source": [
    "# Output\n",
    "y_df.index=target_data.index\n",
    "y_df.to_csv(base_path+'target.csv')"
   ]
  },
  {
   "cell_type": "code",
   "execution_count": null,
   "metadata": {
    "collapsed": true
   },
   "outputs": [],
   "source": []
  },
  {
   "cell_type": "code",
   "execution_count": null,
   "metadata": {
    "collapsed": true
   },
   "outputs": [],
   "source": [
    "# Tune LR not used\n",
    "\n",
    "print \"Linear regression L2 tuning\"\n",
    "params={\n",
    "    'n_estimators':[42,43,44],\n",
    "    'max_features':[0.0002,0.0003,0.0004],\n",
    "    'max_depth':[1]\n",
    "        }\n",
    "from sklearn.grid_search import GridSearchCV\n",
    "rfc = RandomForestRegressor(criterion='mse', n_jobs=-1)\n",
    "gs = GridSearchCV(rfc, params,cv=5,verbose=2)\n",
    "gs.fit(X_train, y_train)\n",
    "print 'Report scores'\n",
    "print gs.grid_scores_\n",
    "print(\"Report best params for random forest\")\n",
    "best_parameters, score, _ = min(gs.grid_scores_, key=lambda x: x[1])\n",
    "reportParams(best_parameters, score)"
   ]
  }
 ],
 "metadata": {
  "kernelspec": {
   "display_name": "Python 2",
   "language": "python",
   "name": "python2"
  },
  "language_info": {
   "codemirror_mode": {
    "name": "ipython",
    "version": 2
   },
   "file_extension": ".py",
   "mimetype": "text/x-python",
   "name": "python",
   "nbconvert_exporter": "python",
   "pygments_lexer": "ipython2",
   "version": "2.7.12"
  }
 },
 "nbformat": 4,
 "nbformat_minor": 0
}
