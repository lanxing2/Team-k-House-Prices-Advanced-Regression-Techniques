{
 "cells": [
  {
   "cell_type": "code",
   "execution_count": 59,
   "metadata": {
    "collapsed": true
   },
   "outputs": [],
   "source": [
    "import pandas as pd\n",
    "import numpy as np\n",
    "from pandas import DataFrame\n",
    "\n",
    "base_path='D:/kaggle/regression/'"
   ]
  },
  {
   "cell_type": "code",
   "execution_count": 60,
   "metadata": {
    "collapsed": false
   },
   "outputs": [],
   "source": [
    "house_train=DataFrame.from_csv(base_path+'train.csv',index_col='Id')"
   ]
  },
  {
   "cell_type": "code",
   "execution_count": 61,
   "metadata": {
    "collapsed": true
   },
   "outputs": [],
   "source": [
    "house_test=DataFrame.from_csv(base_path+'test.csv',index_col='Id')\n",
    "house_test['SalePrice']=0"
   ]
  },
  {
   "cell_type": "code",
   "execution_count": 62,
   "metadata": {
    "collapsed": false
   },
   "outputs": [],
   "source": [
    "# Concatenate train and test\n",
    "house=pd.concat([house_train, house_test], axis=0)"
   ]
  },
  {
   "cell_type": "code",
   "execution_count": 63,
   "metadata": {
    "collapsed": false
   },
   "outputs": [
    {
     "name": "stdout",
     "output_type": "stream",
     "text": [
      "<class 'pandas.core.frame.DataFrame'>\n",
      "Int64Index: 2919 entries, 1 to 2919\n",
      "Data columns (total 80 columns):\n",
      "MSSubClass       2919 non-null int64\n",
      "MSZoning         2915 non-null object\n",
      "LotFrontage      2433 non-null float64\n",
      "LotArea          2919 non-null int64\n",
      "Street           2919 non-null object\n",
      "Alley            198 non-null object\n",
      "LotShape         2919 non-null object\n",
      "LandContour      2919 non-null object\n",
      "Utilities        2917 non-null object\n",
      "LotConfig        2919 non-null object\n",
      "LandSlope        2919 non-null object\n",
      "Neighborhood     2919 non-null object\n",
      "Condition1       2919 non-null object\n",
      "Condition2       2919 non-null object\n",
      "BldgType         2919 non-null object\n",
      "HouseStyle       2919 non-null object\n",
      "OverallQual      2919 non-null int64\n",
      "OverallCond      2919 non-null int64\n",
      "YearBuilt        2919 non-null int64\n",
      "YearRemodAdd     2919 non-null int64\n",
      "RoofStyle        2919 non-null object\n",
      "RoofMatl         2919 non-null object\n",
      "Exterior1st      2918 non-null object\n",
      "Exterior2nd      2918 non-null object\n",
      "MasVnrType       2895 non-null object\n",
      "MasVnrArea       2896 non-null float64\n",
      "ExterQual        2919 non-null object\n",
      "ExterCond        2919 non-null object\n",
      "Foundation       2919 non-null object\n",
      "BsmtQual         2838 non-null object\n",
      "BsmtCond         2837 non-null object\n",
      "BsmtExposure     2837 non-null object\n",
      "BsmtFinType1     2840 non-null object\n",
      "BsmtFinSF1       2918 non-null float64\n",
      "BsmtFinType2     2839 non-null object\n",
      "BsmtFinSF2       2918 non-null float64\n",
      "BsmtUnfSF        2918 non-null float64\n",
      "TotalBsmtSF      2918 non-null float64\n",
      "Heating          2919 non-null object\n",
      "HeatingQC        2919 non-null object\n",
      "CentralAir       2919 non-null object\n",
      "Electrical       2918 non-null object\n",
      "1stFlrSF         2919 non-null int64\n",
      "2ndFlrSF         2919 non-null int64\n",
      "LowQualFinSF     2919 non-null int64\n",
      "GrLivArea        2919 non-null int64\n",
      "BsmtFullBath     2917 non-null float64\n",
      "BsmtHalfBath     2917 non-null float64\n",
      "FullBath         2919 non-null int64\n",
      "HalfBath         2919 non-null int64\n",
      "BedroomAbvGr     2919 non-null int64\n",
      "KitchenAbvGr     2919 non-null int64\n",
      "KitchenQual      2918 non-null object\n",
      "TotRmsAbvGrd     2919 non-null int64\n",
      "Functional       2917 non-null object\n",
      "Fireplaces       2919 non-null int64\n",
      "FireplaceQu      1499 non-null object\n",
      "GarageType       2762 non-null object\n",
      "GarageYrBlt      2760 non-null float64\n",
      "GarageFinish     2760 non-null object\n",
      "GarageCars       2918 non-null float64\n",
      "GarageArea       2918 non-null float64\n",
      "GarageQual       2760 non-null object\n",
      "GarageCond       2760 non-null object\n",
      "PavedDrive       2919 non-null object\n",
      "WoodDeckSF       2919 non-null int64\n",
      "OpenPorchSF      2919 non-null int64\n",
      "EnclosedPorch    2919 non-null int64\n",
      "3SsnPorch        2919 non-null int64\n",
      "ScreenPorch      2919 non-null int64\n",
      "PoolArea         2919 non-null int64\n",
      "PoolQC           10 non-null object\n",
      "Fence            571 non-null object\n",
      "MiscFeature      105 non-null object\n",
      "MiscVal          2919 non-null int64\n",
      "MoSold           2919 non-null int64\n",
      "YrSold           2919 non-null int64\n",
      "SaleType         2918 non-null object\n",
      "SaleCondition    2919 non-null object\n",
      "SalePrice        2919 non-null int64\n",
      "dtypes: float64(11), int64(26), object(43)\n",
      "memory usage: 1.8+ MB\n"
     ]
    }
   ],
   "source": [
    "house.info()"
   ]
  },
  {
   "cell_type": "code",
   "execution_count": 64,
   "metadata": {
    "collapsed": false
   },
   "outputs": [],
   "source": [
    "house.loc[house.BsmtCond.isnull(), 'BsmtCond'] = 'NoBsmt'\n",
    "house.loc[house.FireplaceQu.isnull(), 'FireplaceQu'] = 'NoFireplace'\n",
    "house.loc[house.GarageQual.isnull(), 'GarageQual'] = 'NoGarage'\n",
    "house.loc[house.GarageCond.isnull(), 'GarageCond'] = 'NoGarage'\n",
    "house.loc[house.GarageCond.isnull(), 'BsmtQual'] = 'NoBsmt'\n",
    "house.loc[house.GarageCond.isnull(), 'BsmtExposure'] = 'NoBsmt'"
   ]
  },
  {
   "cell_type": "code",
   "execution_count": 65,
   "metadata": {
    "collapsed": false
   },
   "outputs": [],
   "source": [
    "house = house.replace({\n",
    "                             'ExterQual': {'Ex': 5, \n",
    "                                            'Gd': 4, \n",
    "                                            'TA': 3, \n",
    "                                            'Fa': 2,\n",
    "                                            'Po': 1\n",
    "                                            },\n",
    "                             'ExterCond': {'Ex': 5, \n",
    "                                            'Gd': 4, \n",
    "                                            'TA': 3, \n",
    "                                            'Fa': 2,\n",
    "                                            'Po': 1\n",
    "                                            },\n",
    "                             'BsmtCond': {'Ex': 5, \n",
    "                                            'Gd': 4, \n",
    "                                            'TA': 3, \n",
    "                                            'Fa': 2,\n",
    "                                            'Po': 1,\n",
    "                                            'NoBsmt': 0},\n",
    "                            'HeatingQC': {'Ex': 5, \n",
    "                                            'Gd': 4, \n",
    "                                            'TA': 3, \n",
    "                                            'Fa': 2,\n",
    "                                            'Po': 1\n",
    "                                            },\n",
    "                            'KitchenQual': {'Ex': 5, \n",
    "                                            'Gd': 4, \n",
    "                                            'TA': 3, \n",
    "                                            'Fa': 2,\n",
    "                                            'Po': 1},\n",
    "                             'Functional': {'Typ': 0,\n",
    "                                            'Min1': 1,\n",
    "                                            'Min2': 1,\n",
    "                                            'Mod': 2,\n",
    "                                            'Maj1': 3,\n",
    "                                            'Maj2': 4,\n",
    "                                            'Sev': 5,\n",
    "                                            'Sal': 6\n",
    "                                           },\n",
    "                            'FireplaceQu': {'Ex': 5, \n",
    "                                            'Gd': 4, \n",
    "                                            'TA': 3, \n",
    "                                            'Fa': 2,\n",
    "                                            'Po': 1,\n",
    "                                            'NoFireplace': 0 \n",
    "                                            },\n",
    "                             'GarageQual': {'Ex': 5, \n",
    "                                            'Gd': 4, \n",
    "                                            'TA': 3, \n",
    "                                            'Fa': 2,\n",
    "                                            'Po': 1,\n",
    "                                            'NoGarage': 0},\n",
    "                             'GarageCond': {'Ex': 5, \n",
    "                                            'Gd': 4, \n",
    "                                            'TA': 3, \n",
    "                                            'Fa': 2,\n",
    "                                            'Po': 1,\n",
    "                                            'NoGarage': 0},\n",
    "                             'BsmtQual': {'Ex': 5, \n",
    "                                            'Gd': 4, \n",
    "                                            'TA': 3, \n",
    "                                            'Fa': 2,\n",
    "                                            'Po': 1,\n",
    "                                            'NoBsmt': 0},\n",
    "                             'BsmtExposure': {'Gd': 4, \n",
    "                                            'Av': 3, \n",
    "                                            'Mn': 2,\n",
    "                                            'No': 1,\n",
    "                                            'NoBsmt': 0},        \n",
    "                            })"
   ]
  },
  {
   "cell_type": "code",
   "execution_count": 66,
   "metadata": {
    "collapsed": false
   },
   "outputs": [
    {
     "name": "stdout",
     "output_type": "stream",
     "text": [
      "<class 'pandas.core.frame.DataFrame'>\n",
      "Int64Index: 2919 entries, 1 to 2919\n",
      "Data columns (total 47 columns):\n",
      "LotFrontage      2433 non-null float64\n",
      "LotArea          2919 non-null int64\n",
      "OverallQual      2919 non-null int64\n",
      "OverallCond      2919 non-null int64\n",
      "YearBuilt        2919 non-null int64\n",
      "YearRemodAdd     2919 non-null int64\n",
      "MasVnrArea       2896 non-null float64\n",
      "ExterQual        2919 non-null int64\n",
      "ExterCond        2919 non-null int64\n",
      "BsmtQual         2838 non-null float64\n",
      "BsmtCond         2919 non-null int64\n",
      "BsmtExposure     2837 non-null float64\n",
      "BsmtFinSF1       2918 non-null float64\n",
      "BsmtFinSF2       2918 non-null float64\n",
      "BsmtUnfSF        2918 non-null float64\n",
      "TotalBsmtSF      2918 non-null float64\n",
      "HeatingQC        2919 non-null int64\n",
      "1stFlrSF         2919 non-null int64\n",
      "2ndFlrSF         2919 non-null int64\n",
      "LowQualFinSF     2919 non-null int64\n",
      "GrLivArea        2919 non-null int64\n",
      "BsmtFullBath     2917 non-null float64\n",
      "BsmtHalfBath     2917 non-null float64\n",
      "FullBath         2919 non-null int64\n",
      "HalfBath         2919 non-null int64\n",
      "BedroomAbvGr     2919 non-null int64\n",
      "KitchenAbvGr     2919 non-null int64\n",
      "KitchenQual      2918 non-null float64\n",
      "TotRmsAbvGrd     2919 non-null int64\n",
      "Functional       2917 non-null float64\n",
      "Fireplaces       2919 non-null int64\n",
      "FireplaceQu      2919 non-null int64\n",
      "GarageYrBlt      2760 non-null float64\n",
      "GarageCars       2918 non-null float64\n",
      "GarageArea       2918 non-null float64\n",
      "GarageQual       2919 non-null int64\n",
      "GarageCond       2919 non-null int64\n",
      "WoodDeckSF       2919 non-null int64\n",
      "OpenPorchSF      2919 non-null int64\n",
      "EnclosedPorch    2919 non-null int64\n",
      "3SsnPorch        2919 non-null int64\n",
      "ScreenPorch      2919 non-null int64\n",
      "PoolArea         2919 non-null int64\n",
      "MiscVal          2919 non-null int64\n",
      "MoSold           2919 non-null int64\n",
      "YrSold           2919 non-null int64\n",
      "SalePrice        2919 non-null int64\n",
      "dtypes: float64(15), int64(32)\n",
      "memory usage: 1.1 MB\n"
     ]
    }
   ],
   "source": [
    "# Select all numerical\n",
    "num_data=house.select_dtypes(include=['int64','float64'])\n",
    "# MSSubClass is categorical\n",
    "num_data=num_data.drop(['MSSubClass'],axis=1)\n",
    "num_data.info()"
   ]
  },
  {
   "cell_type": "code",
   "execution_count": 67,
   "metadata": {
    "collapsed": false
   },
   "outputs": [
    {
     "data": {
      "text/plain": [
       "Index([u'MSZoning', u'Street', u'Alley', u'LotShape', u'LandContour',\n",
       "       u'Utilities', u'LotConfig', u'LandSlope', u'Neighborhood',\n",
       "       u'Condition1', u'Condition2', u'BldgType', u'HouseStyle', u'RoofStyle',\n",
       "       u'RoofMatl', u'Exterior1st', u'Exterior2nd', u'MasVnrType',\n",
       "       u'Foundation', u'BsmtFinType1', u'BsmtFinType2', u'Heating',\n",
       "       u'CentralAir', u'Electrical', u'GarageType', u'GarageFinish',\n",
       "       u'PavedDrive', u'PoolQC', u'Fence', u'MiscFeature', u'SaleType',\n",
       "       u'SaleCondition'],\n",
       "      dtype='object')"
      ]
     },
     "execution_count": 67,
     "metadata": {},
     "output_type": "execute_result"
    }
   ],
   "source": [
    "obj_columns=house.select_dtypes(include=['object'])\n",
    "obj_columns.columns"
   ]
  },
  {
   "cell_type": "code",
   "execution_count": 68,
   "metadata": {
    "collapsed": false
   },
   "outputs": [
    {
     "name": "stdout",
     "output_type": "stream",
     "text": [
      "33  columns to convert from categorical to numerical.\n"
     ]
    }
   ],
   "source": [
    "to_convert=[u'MSSubClass',u'MSZoning', u'Street', u'Alley', u'LotShape', u'LandContour',\n",
    "       u'Utilities', u'LotConfig', u'LandSlope', u'Neighborhood',\n",
    "       u'Condition1', u'Condition2', u'BldgType', u'HouseStyle', u'RoofStyle',\n",
    "       u'RoofMatl', u'Exterior1st', u'Exterior2nd', u'MasVnrType',\n",
    "       u'Foundation', u'BsmtFinType1', u'BsmtFinType2', u'Heating',\n",
    "       u'CentralAir', u'Electrical', u'GarageType', u'GarageFinish',\n",
    "       u'PavedDrive', u'PoolQC', u'Fence', u'MiscFeature', u'SaleType',\n",
    "       u'SaleCondition']\n",
    "print len(to_convert),' columns to convert from categorical to numerical.'      "
   ]
  },
  {
   "cell_type": "code",
   "execution_count": 69,
   "metadata": {
    "collapsed": false
   },
   "outputs": [
    {
     "data": {
      "text/plain": [
       "Index([u'MSSubClass', u'MSZoning', u'Street', u'Alley', u'LotShape',\n",
       "       u'LandContour', u'Utilities', u'LotConfig', u'LandSlope',\n",
       "       u'Neighborhood', u'Condition1', u'Condition2', u'BldgType',\n",
       "       u'HouseStyle', u'RoofStyle', u'RoofMatl', u'Exterior1st',\n",
       "       u'Exterior2nd', u'MasVnrType', u'Foundation', u'BsmtFinType1',\n",
       "       u'BsmtFinType2', u'Heating', u'CentralAir', u'Electrical',\n",
       "       u'GarageType', u'GarageFinish', u'PavedDrive', u'PoolQC', u'Fence',\n",
       "       u'MiscFeature', u'SaleType', u'SaleCondition'],\n",
       "      dtype='object')"
      ]
     },
     "execution_count": 69,
     "metadata": {},
     "output_type": "execute_result"
    }
   ],
   "source": [
    "for cname in to_convert:\n",
    "    house[cname]=house[cname].astype('category')\n",
    "cat_columns = house.select_dtypes(['category'])\n",
    "cat_columns.columns"
   ]
  },
  {
   "cell_type": "code",
   "execution_count": 70,
   "metadata": {
    "collapsed": false
   },
   "outputs": [
    {
     "name": "stdout",
     "output_type": "stream",
     "text": [
      "Converting column  MSSubClass\n",
      "1 : one-hot converted to  <class 'pandas.core.frame.DataFrame'> (2919, 16)\n",
      "Converting column  MSZoning\n",
      "2 : one-hot converted to  <class 'pandas.core.frame.DataFrame'> (2919, 5)\n",
      "Converting column  Street\n",
      "3 : one-hot converted to  <class 'pandas.core.frame.DataFrame'> (2919, 2)\n",
      "Converting column  Alley\n",
      "4 : one-hot converted to  <class 'pandas.core.frame.DataFrame'> (2919, 2)\n",
      "Converting column  LotShape\n",
      "5 : one-hot converted to  <class 'pandas.core.frame.DataFrame'> (2919, 4)\n",
      "Converting column  LandContour\n",
      "6 : one-hot converted to  <class 'pandas.core.frame.DataFrame'> (2919, 4)\n",
      "Converting column  Utilities\n",
      "7 : one-hot converted to  <class 'pandas.core.frame.DataFrame'> (2919, 2)\n",
      "Converting column  LotConfig\n",
      "8 : one-hot converted to  <class 'pandas.core.frame.DataFrame'> (2919, 5)\n",
      "Converting column  LandSlope\n",
      "9 : one-hot converted to  <class 'pandas.core.frame.DataFrame'> (2919, 3)\n",
      "Converting column  Neighborhood\n",
      "10 : one-hot converted to  <class 'pandas.core.frame.DataFrame'> (2919, 25)\n",
      "Converting column  Condition1\n",
      "11 : one-hot converted to  <class 'pandas.core.frame.DataFrame'> (2919, 9)\n",
      "Converting column  Condition2\n",
      "12 : one-hot converted to  <class 'pandas.core.frame.DataFrame'> (2919, 8)\n",
      "Converting column  BldgType\n",
      "13 : one-hot converted to  <class 'pandas.core.frame.DataFrame'> (2919, 5)\n",
      "Converting column  HouseStyle\n",
      "14 : one-hot converted to  <class 'pandas.core.frame.DataFrame'> (2919, 8)\n",
      "Converting column  RoofStyle\n",
      "15 : one-hot converted to  <class 'pandas.core.frame.DataFrame'> (2919, 6)\n",
      "Converting column  RoofMatl\n",
      "16 : one-hot converted to  <class 'pandas.core.frame.DataFrame'> (2919, 8)\n",
      "Converting column  Exterior1st\n",
      "17 : one-hot converted to  <class 'pandas.core.frame.DataFrame'> (2919, 15)\n",
      "Converting column  Exterior2nd\n",
      "18 : one-hot converted to  <class 'pandas.core.frame.DataFrame'> (2919, 16)\n",
      "Converting column  MasVnrType\n",
      "19 : one-hot converted to  <class 'pandas.core.frame.DataFrame'> (2919, 4)\n",
      "Converting column  Foundation\n",
      "20 : one-hot converted to  <class 'pandas.core.frame.DataFrame'> (2919, 6)\n",
      "Converting column  BsmtFinType1\n",
      "21 : one-hot converted to  <class 'pandas.core.frame.DataFrame'> (2919, 6)\n",
      "Converting column  BsmtFinType2\n",
      "22 : one-hot converted to  <class 'pandas.core.frame.DataFrame'> (2919, 6)\n",
      "Converting column  Heating\n",
      "23 : one-hot converted to  <class 'pandas.core.frame.DataFrame'> (2919, 6)\n",
      "Converting column  CentralAir\n",
      "24 : one-hot converted to  <class 'pandas.core.frame.DataFrame'> (2919, 2)\n",
      "Converting column  Electrical\n",
      "25 : one-hot converted to  <class 'pandas.core.frame.DataFrame'> (2919, 5)\n",
      "Converting column  GarageType\n",
      "26 : one-hot converted to  <class 'pandas.core.frame.DataFrame'> (2919, 6)\n",
      "Converting column  GarageFinish\n",
      "27 : one-hot converted to  <class 'pandas.core.frame.DataFrame'> (2919, 3)\n",
      "Converting column  PavedDrive\n",
      "28 : one-hot converted to  <class 'pandas.core.frame.DataFrame'> (2919, 3)\n",
      "Converting column  PoolQC\n",
      "29 : one-hot converted to  <class 'pandas.core.frame.DataFrame'> (2919, 3)\n",
      "Converting column  Fence\n",
      "30 : one-hot converted to  <class 'pandas.core.frame.DataFrame'> (2919, 4)\n",
      "Converting column  MiscFeature\n",
      "31 : one-hot converted to  <class 'pandas.core.frame.DataFrame'> (2919, 4)\n",
      "Converting column  SaleType\n",
      "32 : one-hot converted to  <class 'pandas.core.frame.DataFrame'> (2919, 9)\n",
      "Converting column  SaleCondition\n",
      "33 : one-hot converted to  <class 'pandas.core.frame.DataFrame'> (2919, 6)\n",
      "All columns converted to one-hot matrix count:  33\n",
      "<class 'pandas.core.frame.DataFrame'>\n",
      "Int64Index: 2919 entries, 1 to 2919\n",
      "Columns: 216 entries, MSSubClass__20 to SaleCondition__Partial\n",
      "dtypes: float64(216)\n",
      "memory usage: 4.8 MB\n"
     ]
    }
   ],
   "source": [
    "count=0\n",
    "one_hot_df=pd.DataFrame()\n",
    "for col_name in to_convert:\n",
    "    count+=1\n",
    "    print 'Converting column ',col_name\n",
    "    one_hot_columns=pd.get_dummies(house[col_name],prefix=col_name+'_')\n",
    "    print count,': one-hot converted to ',type(one_hot_columns),one_hot_columns.shape\n",
    "    for this_col in one_hot_columns.columns:\n",
    "        one_hot_df[this_col]=one_hot_columns[this_col]\n",
    "print 'All columns converted to one-hot matrix', 'count: ',count\n",
    "one_hot_df.info()"
   ]
  },
  {
   "cell_type": "code",
   "execution_count": 71,
   "metadata": {
    "collapsed": false
   },
   "outputs": [
    {
     "name": "stdout",
     "output_type": "stream",
     "text": [
      "<class 'pandas.core.frame.DataFrame'>\n",
      "Int64Index: 2919 entries, 1 to 2919\n",
      "Columns: 263 entries, LotFrontage to SaleCondition__Partial\n",
      "dtypes: float64(231), int64(32)\n",
      "memory usage: 5.9 MB\n"
     ]
    }
   ],
   "source": [
    "concat_data=pd.concat([num_data, one_hot_df], axis=1)\n",
    "concat_data.info()"
   ]
  },
  {
   "cell_type": "code",
   "execution_count": 72,
   "metadata": {
    "collapsed": false
   },
   "outputs": [],
   "source": [
    "concat_bak=concat_data.copy(deep=True)"
   ]
  },
  {
   "cell_type": "code",
   "execution_count": 73,
   "metadata": {
    "collapsed": false
   },
   "outputs": [
    {
     "data": {
      "text/plain": [
       "844"
      ]
     },
     "execution_count": 73,
     "metadata": {},
     "output_type": "execute_result"
    }
   ],
   "source": [
    "concat_bak.apply(lambda x: x.fillna(x.mean()),axis=0)\n",
    "concat_bak.isnull().values.sum()"
   ]
  },
  {
   "cell_type": "code",
   "execution_count": 86,
   "metadata": {
    "collapsed": false
   },
   "outputs": [
    {
     "data": {
      "text/html": [
       "<div>\n",
       "<table border=\"1\" class=\"dataframe\">\n",
       "  <thead>\n",
       "    <tr style=\"text-align: right;\">\n",
       "      <th></th>\n",
       "      <th>LotFrontage</th>\n",
       "      <th>LotArea</th>\n",
       "      <th>OverallQual</th>\n",
       "      <th>OverallCond</th>\n",
       "      <th>YearBuilt</th>\n",
       "      <th>YearRemodAdd</th>\n",
       "      <th>MasVnrArea</th>\n",
       "      <th>ExterQual</th>\n",
       "      <th>ExterCond</th>\n",
       "      <th>BsmtQual</th>\n",
       "      <th>...</th>\n",
       "      <th>SaleType__ConLw</th>\n",
       "      <th>SaleType__New</th>\n",
       "      <th>SaleType__Oth</th>\n",
       "      <th>SaleType__WD</th>\n",
       "      <th>SaleCondition__Abnorml</th>\n",
       "      <th>SaleCondition__AdjLand</th>\n",
       "      <th>SaleCondition__Alloca</th>\n",
       "      <th>SaleCondition__Family</th>\n",
       "      <th>SaleCondition__Normal</th>\n",
       "      <th>SaleCondition__Partial</th>\n",
       "    </tr>\n",
       "    <tr>\n",
       "      <th>Id</th>\n",
       "      <th></th>\n",
       "      <th></th>\n",
       "      <th></th>\n",
       "      <th></th>\n",
       "      <th></th>\n",
       "      <th></th>\n",
       "      <th></th>\n",
       "      <th></th>\n",
       "      <th></th>\n",
       "      <th></th>\n",
       "      <th></th>\n",
       "      <th></th>\n",
       "      <th></th>\n",
       "      <th></th>\n",
       "      <th></th>\n",
       "      <th></th>\n",
       "      <th></th>\n",
       "      <th></th>\n",
       "      <th></th>\n",
       "      <th></th>\n",
       "      <th></th>\n",
       "    </tr>\n",
       "  </thead>\n",
       "  <tbody>\n",
       "  </tbody>\n",
       "</table>\n",
       "<p>0 rows × 263 columns</p>\n",
       "</div>"
      ],
      "text/plain": [
       "Empty DataFrame\n",
       "Columns: [LotFrontage, LotArea, OverallQual, OverallCond, YearBuilt, YearRemodAdd, MasVnrArea, ExterQual, ExterCond, BsmtQual, BsmtCond, BsmtExposure, BsmtFinSF1, BsmtFinSF2, BsmtUnfSF, TotalBsmtSF, HeatingQC, 1stFlrSF, 2ndFlrSF, LowQualFinSF, GrLivArea, BsmtFullBath, BsmtHalfBath, FullBath, HalfBath, BedroomAbvGr, KitchenAbvGr, KitchenQual, TotRmsAbvGrd, Functional, Fireplaces, FireplaceQu, GarageYrBlt, GarageCars, GarageArea, GarageQual, GarageCond, WoodDeckSF, OpenPorchSF, EnclosedPorch, 3SsnPorch, ScreenPorch, PoolArea, MiscVal, MoSold, YrSold, SalePrice, MSSubClass__20, MSSubClass__30, MSSubClass__40, MSSubClass__45, MSSubClass__50, MSSubClass__60, MSSubClass__70, MSSubClass__75, MSSubClass__80, MSSubClass__85, MSSubClass__90, MSSubClass__120, MSSubClass__150, MSSubClass__160, MSSubClass__180, MSSubClass__190, MSZoning__C (all), MSZoning__FV, MSZoning__RH, MSZoning__RL, MSZoning__RM, Street__Grvl, Street__Pave, Alley__Grvl, Alley__Pave, LotShape__IR1, LotShape__IR2, LotShape__IR3, LotShape__Reg, LandContour__Bnk, LandContour__HLS, LandContour__Low, LandContour__Lvl, Utilities__AllPub, Utilities__NoSeWa, LotConfig__Corner, LotConfig__CulDSac, LotConfig__FR2, LotConfig__FR3, LotConfig__Inside, LandSlope__Gtl, LandSlope__Mod, LandSlope__Sev, Neighborhood__Blmngtn, Neighborhood__Blueste, Neighborhood__BrDale, Neighborhood__BrkSide, Neighborhood__ClearCr, Neighborhood__CollgCr, Neighborhood__Crawfor, Neighborhood__Edwards, Neighborhood__Gilbert, Neighborhood__IDOTRR, ...]\n",
       "Index: []\n",
       "\n",
       "[0 rows x 263 columns]"
      ]
     },
     "execution_count": 86,
     "metadata": {},
     "output_type": "execute_result"
    }
   ],
   "source": [
    "concat_bak[concat_bak.isnull().any(axis=1)]"
   ]
  },
  {
   "cell_type": "code",
   "execution_count": 74,
   "metadata": {
    "collapsed": true
   },
   "outputs": [],
   "source": [
    "# Fill Lot frontage\n",
    "concat_bak[u'LotFrontage']=concat_bak[u'LotFrontage'].fillna(0)"
   ]
  },
  {
   "cell_type": "code",
   "execution_count": 82,
   "metadata": {
    "collapsed": false
   },
   "outputs": [
    {
     "name": "stdout",
     "output_type": "stream",
     "text": [
      "KitchenQual\n",
      "Functional\n"
     ]
    }
   ],
   "source": [
    "# Print columns that contains NAN\n",
    "for k,v in concat_bak.isnull().any().iteritems():\n",
    "    if v:\n",
    "        print k"
   ]
  },
  {
   "cell_type": "code",
   "execution_count": 84,
   "metadata": {
    "collapsed": false
   },
   "outputs": [
    {
     "data": {
      "text/plain": [
       "count    2917.000000\n",
       "mean        0.105588\n",
       "std         0.456428\n",
       "min         0.000000\n",
       "25%         0.000000\n",
       "50%         0.000000\n",
       "75%         0.000000\n",
       "max         5.000000\n",
       "Name: Functional, dtype: float64"
      ]
     },
     "execution_count": 84,
     "metadata": {},
     "output_type": "execute_result"
    }
   ],
   "source": [
    "concat_bak[u'Functional'].describe()"
   ]
  },
  {
   "cell_type": "code",
   "execution_count": 76,
   "metadata": {
    "collapsed": true
   },
   "outputs": [],
   "source": [
    "# Fill masonary vesse area\n",
    "concat_bak[u'MasVnrArea']=concat_bak[u'MasVnrArea'].fillna(0)"
   ]
  },
  {
   "cell_type": "code",
   "execution_count": 77,
   "metadata": {
    "collapsed": true
   },
   "outputs": [],
   "source": [
    "# Fill garage year built\n",
    "concat_bak[u'GarageYrBlt']=concat_bak[u'GarageYrBlt'].fillna(1899)"
   ]
  },
  {
   "cell_type": "code",
   "execution_count": 78,
   "metadata": {
    "collapsed": true
   },
   "outputs": [],
   "source": [
    "# Fill BsmtQual\n",
    "concat_bak[u'BsmtQual']=concat_bak[u'BsmtQual'].fillna(0)"
   ]
  },
  {
   "cell_type": "code",
   "execution_count": 79,
   "metadata": {
    "collapsed": true
   },
   "outputs": [],
   "source": [
    "# Fill BsmtExposure\n",
    "concat_bak[u'BsmtExposure']=concat_bak[u'BsmtExposure'].fillna(0)"
   ]
  },
  {
   "cell_type": "code",
   "execution_count": 80,
   "metadata": {
    "collapsed": true
   },
   "outputs": [],
   "source": [
    "# A few others\n",
    "concat_bak[u'BsmtFinSF1']=concat_bak[u'BsmtFinSF1'].fillna(0)\n",
    "concat_bak[u'BsmtFinSF2']=concat_bak[u'BsmtFinSF2'].fillna(0)\n",
    "concat_bak[u'BsmtUnfSF']=concat_bak[u'BsmtUnfSF'].fillna(0)\n",
    "concat_bak[u'TotalBsmtSF']=concat_bak[u'TotalBsmtSF'].fillna(0)\n",
    "concat_bak[u'BsmtFullBath']=concat_bak[u'BsmtFullBath'].fillna(0)\n",
    "concat_bak[u'BsmtHalfBath']=concat_bak[u'BsmtHalfBath'].fillna(0)\n",
    "concat_bak[u'GarageCars']=concat_bak[u'GarageCars'].fillna(0)\n",
    "concat_bak[u'GarageArea']=concat_bak[u'GarageArea'].fillna(0)"
   ]
  },
  {
   "cell_type": "code",
   "execution_count": 85,
   "metadata": {
    "collapsed": true
   },
   "outputs": [],
   "source": [
    "# 2 other columns with unknown reason being NA\n",
    "concat_bak[u'KitchenQual']=concat_bak[u'KitchenQual'].fillna(3)\n",
    "concat_bak[u'Functional']=concat_bak[u'Functional'].fillna(2)"
   ]
  },
  {
   "cell_type": "code",
   "execution_count": 87,
   "metadata": {
    "collapsed": false
   },
   "outputs": [
    {
     "data": {
      "text/html": [
       "<div>\n",
       "<table border=\"1\" class=\"dataframe\">\n",
       "  <thead>\n",
       "    <tr style=\"text-align: right;\">\n",
       "      <th></th>\n",
       "      <th>LotFrontage</th>\n",
       "      <th>LotArea</th>\n",
       "      <th>OverallQual</th>\n",
       "      <th>OverallCond</th>\n",
       "      <th>YearBuilt</th>\n",
       "      <th>YearRemodAdd</th>\n",
       "      <th>MasVnrArea</th>\n",
       "      <th>ExterQual</th>\n",
       "      <th>ExterCond</th>\n",
       "      <th>BsmtQual</th>\n",
       "      <th>...</th>\n",
       "      <th>SaleType__ConLw</th>\n",
       "      <th>SaleType__New</th>\n",
       "      <th>SaleType__Oth</th>\n",
       "      <th>SaleType__WD</th>\n",
       "      <th>SaleCondition__Abnorml</th>\n",
       "      <th>SaleCondition__AdjLand</th>\n",
       "      <th>SaleCondition__Alloca</th>\n",
       "      <th>SaleCondition__Family</th>\n",
       "      <th>SaleCondition__Normal</th>\n",
       "      <th>SaleCondition__Partial</th>\n",
       "    </tr>\n",
       "  </thead>\n",
       "  <tbody>\n",
       "    <tr>\n",
       "      <th>count</th>\n",
       "      <td>2919.000000</td>\n",
       "      <td>2919.000000</td>\n",
       "      <td>2919.000000</td>\n",
       "      <td>2919.000000</td>\n",
       "      <td>2919.000000</td>\n",
       "      <td>2919.000000</td>\n",
       "      <td>2919.000000</td>\n",
       "      <td>2919.000000</td>\n",
       "      <td>2919.000000</td>\n",
       "      <td>2919.000000</td>\n",
       "      <td>...</td>\n",
       "      <td>2919.000000</td>\n",
       "      <td>2919.000000</td>\n",
       "      <td>2919.000000</td>\n",
       "      <td>2919.000000</td>\n",
       "      <td>2919.000000</td>\n",
       "      <td>2919.000000</td>\n",
       "      <td>2919.000000</td>\n",
       "      <td>2919.000000</td>\n",
       "      <td>2919.000000</td>\n",
       "      <td>2919.000000</td>\n",
       "    </tr>\n",
       "    <tr>\n",
       "      <th>mean</th>\n",
       "      <td>57.766701</td>\n",
       "      <td>10168.114080</td>\n",
       "      <td>6.089072</td>\n",
       "      <td>5.564577</td>\n",
       "      <td>1971.312778</td>\n",
       "      <td>1984.264474</td>\n",
       "      <td>101.396026</td>\n",
       "      <td>3.396711</td>\n",
       "      <td>3.085646</td>\n",
       "      <td>3.477561</td>\n",
       "      <td>...</td>\n",
       "      <td>0.002741</td>\n",
       "      <td>0.081877</td>\n",
       "      <td>0.002398</td>\n",
       "      <td>0.865022</td>\n",
       "      <td>0.065091</td>\n",
       "      <td>0.004111</td>\n",
       "      <td>0.008222</td>\n",
       "      <td>0.015759</td>\n",
       "      <td>0.822885</td>\n",
       "      <td>0.083933</td>\n",
       "    </tr>\n",
       "    <tr>\n",
       "      <th>std</th>\n",
       "      <td>33.481636</td>\n",
       "      <td>7886.996359</td>\n",
       "      <td>1.409947</td>\n",
       "      <td>1.113131</td>\n",
       "      <td>30.291442</td>\n",
       "      <td>20.894344</td>\n",
       "      <td>178.854579</td>\n",
       "      <td>0.580293</td>\n",
       "      <td>0.372361</td>\n",
       "      <td>0.905448</td>\n",
       "      <td>...</td>\n",
       "      <td>0.052289</td>\n",
       "      <td>0.274225</td>\n",
       "      <td>0.048920</td>\n",
       "      <td>0.341758</td>\n",
       "      <td>0.246728</td>\n",
       "      <td>0.063996</td>\n",
       "      <td>0.090317</td>\n",
       "      <td>0.124562</td>\n",
       "      <td>0.381832</td>\n",
       "      <td>0.277335</td>\n",
       "    </tr>\n",
       "    <tr>\n",
       "      <th>min</th>\n",
       "      <td>0.000000</td>\n",
       "      <td>1300.000000</td>\n",
       "      <td>1.000000</td>\n",
       "      <td>1.000000</td>\n",
       "      <td>1872.000000</td>\n",
       "      <td>1950.000000</td>\n",
       "      <td>0.000000</td>\n",
       "      <td>2.000000</td>\n",
       "      <td>1.000000</td>\n",
       "      <td>0.000000</td>\n",
       "      <td>...</td>\n",
       "      <td>0.000000</td>\n",
       "      <td>0.000000</td>\n",
       "      <td>0.000000</td>\n",
       "      <td>0.000000</td>\n",
       "      <td>0.000000</td>\n",
       "      <td>0.000000</td>\n",
       "      <td>0.000000</td>\n",
       "      <td>0.000000</td>\n",
       "      <td>0.000000</td>\n",
       "      <td>0.000000</td>\n",
       "    </tr>\n",
       "    <tr>\n",
       "      <th>25%</th>\n",
       "      <td>43.000000</td>\n",
       "      <td>7478.000000</td>\n",
       "      <td>5.000000</td>\n",
       "      <td>5.000000</td>\n",
       "      <td>1953.500000</td>\n",
       "      <td>1965.000000</td>\n",
       "      <td>0.000000</td>\n",
       "      <td>3.000000</td>\n",
       "      <td>3.000000</td>\n",
       "      <td>3.000000</td>\n",
       "      <td>...</td>\n",
       "      <td>0.000000</td>\n",
       "      <td>0.000000</td>\n",
       "      <td>0.000000</td>\n",
       "      <td>1.000000</td>\n",
       "      <td>0.000000</td>\n",
       "      <td>0.000000</td>\n",
       "      <td>0.000000</td>\n",
       "      <td>0.000000</td>\n",
       "      <td>1.000000</td>\n",
       "      <td>0.000000</td>\n",
       "    </tr>\n",
       "    <tr>\n",
       "      <th>50%</th>\n",
       "      <td>63.000000</td>\n",
       "      <td>9453.000000</td>\n",
       "      <td>6.000000</td>\n",
       "      <td>5.000000</td>\n",
       "      <td>1973.000000</td>\n",
       "      <td>1993.000000</td>\n",
       "      <td>0.000000</td>\n",
       "      <td>3.000000</td>\n",
       "      <td>3.000000</td>\n",
       "      <td>4.000000</td>\n",
       "      <td>...</td>\n",
       "      <td>0.000000</td>\n",
       "      <td>0.000000</td>\n",
       "      <td>0.000000</td>\n",
       "      <td>1.000000</td>\n",
       "      <td>0.000000</td>\n",
       "      <td>0.000000</td>\n",
       "      <td>0.000000</td>\n",
       "      <td>0.000000</td>\n",
       "      <td>1.000000</td>\n",
       "      <td>0.000000</td>\n",
       "    </tr>\n",
       "    <tr>\n",
       "      <th>75%</th>\n",
       "      <td>78.000000</td>\n",
       "      <td>11570.000000</td>\n",
       "      <td>7.000000</td>\n",
       "      <td>6.000000</td>\n",
       "      <td>2001.000000</td>\n",
       "      <td>2004.000000</td>\n",
       "      <td>163.500000</td>\n",
       "      <td>4.000000</td>\n",
       "      <td>3.000000</td>\n",
       "      <td>4.000000</td>\n",
       "      <td>...</td>\n",
       "      <td>0.000000</td>\n",
       "      <td>0.000000</td>\n",
       "      <td>0.000000</td>\n",
       "      <td>1.000000</td>\n",
       "      <td>0.000000</td>\n",
       "      <td>0.000000</td>\n",
       "      <td>0.000000</td>\n",
       "      <td>0.000000</td>\n",
       "      <td>1.000000</td>\n",
       "      <td>0.000000</td>\n",
       "    </tr>\n",
       "    <tr>\n",
       "      <th>max</th>\n",
       "      <td>313.000000</td>\n",
       "      <td>215245.000000</td>\n",
       "      <td>10.000000</td>\n",
       "      <td>9.000000</td>\n",
       "      <td>2010.000000</td>\n",
       "      <td>2010.000000</td>\n",
       "      <td>1600.000000</td>\n",
       "      <td>5.000000</td>\n",
       "      <td>5.000000</td>\n",
       "      <td>5.000000</td>\n",
       "      <td>...</td>\n",
       "      <td>1.000000</td>\n",
       "      <td>1.000000</td>\n",
       "      <td>1.000000</td>\n",
       "      <td>1.000000</td>\n",
       "      <td>1.000000</td>\n",
       "      <td>1.000000</td>\n",
       "      <td>1.000000</td>\n",
       "      <td>1.000000</td>\n",
       "      <td>1.000000</td>\n",
       "      <td>1.000000</td>\n",
       "    </tr>\n",
       "  </tbody>\n",
       "</table>\n",
       "<p>8 rows × 263 columns</p>\n",
       "</div>"
      ],
      "text/plain": [
       "       LotFrontage        LotArea  OverallQual  OverallCond    YearBuilt  \\\n",
       "count  2919.000000    2919.000000  2919.000000  2919.000000  2919.000000   \n",
       "mean     57.766701   10168.114080     6.089072     5.564577  1971.312778   \n",
       "std      33.481636    7886.996359     1.409947     1.113131    30.291442   \n",
       "min       0.000000    1300.000000     1.000000     1.000000  1872.000000   \n",
       "25%      43.000000    7478.000000     5.000000     5.000000  1953.500000   \n",
       "50%      63.000000    9453.000000     6.000000     5.000000  1973.000000   \n",
       "75%      78.000000   11570.000000     7.000000     6.000000  2001.000000   \n",
       "max     313.000000  215245.000000    10.000000     9.000000  2010.000000   \n",
       "\n",
       "       YearRemodAdd   MasVnrArea    ExterQual    ExterCond     BsmtQual  \\\n",
       "count   2919.000000  2919.000000  2919.000000  2919.000000  2919.000000   \n",
       "mean    1984.264474   101.396026     3.396711     3.085646     3.477561   \n",
       "std       20.894344   178.854579     0.580293     0.372361     0.905448   \n",
       "min     1950.000000     0.000000     2.000000     1.000000     0.000000   \n",
       "25%     1965.000000     0.000000     3.000000     3.000000     3.000000   \n",
       "50%     1993.000000     0.000000     3.000000     3.000000     4.000000   \n",
       "75%     2004.000000   163.500000     4.000000     3.000000     4.000000   \n",
       "max     2010.000000  1600.000000     5.000000     5.000000     5.000000   \n",
       "\n",
       "                ...            SaleType__ConLw  SaleType__New  SaleType__Oth  \\\n",
       "count           ...                2919.000000    2919.000000    2919.000000   \n",
       "mean            ...                   0.002741       0.081877       0.002398   \n",
       "std             ...                   0.052289       0.274225       0.048920   \n",
       "min             ...                   0.000000       0.000000       0.000000   \n",
       "25%             ...                   0.000000       0.000000       0.000000   \n",
       "50%             ...                   0.000000       0.000000       0.000000   \n",
       "75%             ...                   0.000000       0.000000       0.000000   \n",
       "max             ...                   1.000000       1.000000       1.000000   \n",
       "\n",
       "       SaleType__WD  SaleCondition__Abnorml  SaleCondition__AdjLand  \\\n",
       "count   2919.000000             2919.000000             2919.000000   \n",
       "mean       0.865022                0.065091                0.004111   \n",
       "std        0.341758                0.246728                0.063996   \n",
       "min        0.000000                0.000000                0.000000   \n",
       "25%        1.000000                0.000000                0.000000   \n",
       "50%        1.000000                0.000000                0.000000   \n",
       "75%        1.000000                0.000000                0.000000   \n",
       "max        1.000000                1.000000                1.000000   \n",
       "\n",
       "       SaleCondition__Alloca  SaleCondition__Family  SaleCondition__Normal  \\\n",
       "count            2919.000000            2919.000000            2919.000000   \n",
       "mean                0.008222               0.015759               0.822885   \n",
       "std                 0.090317               0.124562               0.381832   \n",
       "min                 0.000000               0.000000               0.000000   \n",
       "25%                 0.000000               0.000000               1.000000   \n",
       "50%                 0.000000               0.000000               1.000000   \n",
       "75%                 0.000000               0.000000               1.000000   \n",
       "max                 1.000000               1.000000               1.000000   \n",
       "\n",
       "       SaleCondition__Partial  \n",
       "count             2919.000000  \n",
       "mean                 0.083933  \n",
       "std                  0.277335  \n",
       "min                  0.000000  \n",
       "25%                  0.000000  \n",
       "50%                  0.000000  \n",
       "75%                  0.000000  \n",
       "max                  1.000000  \n",
       "\n",
       "[8 rows x 263 columns]"
      ]
     },
     "execution_count": 87,
     "metadata": {},
     "output_type": "execute_result"
    }
   ],
   "source": [
    "concat_bak.describe()"
   ]
  },
  {
   "cell_type": "code",
   "execution_count": 88,
   "metadata": {
    "collapsed": false
   },
   "outputs": [
    {
     "name": "stdout",
     "output_type": "stream",
     "text": [
      "Test samples have shape  (1459, 263)\n",
      "Train samples have shape  (1460, 263)\n"
     ]
    }
   ],
   "source": [
    "# Split back to train and test\n",
    "test_all=concat_bak[concat_bak['SalePrice'].isin([0])]\n",
    "print 'Test samples have shape ',test_all.shape\n",
    "train_all=concat_bak[concat_bak['SalePrice']>0]\n",
    "print 'Train samples have shape ',train_all.shape"
   ]
  },
  {
   "cell_type": "code",
   "execution_count": 89,
   "metadata": {
    "collapsed": true
   },
   "outputs": [],
   "source": [
    "# Output \n",
    "test_all.to_csv(base_path+'cleaned_test.csv')\n",
    "train_all.to_csv(base_path+'cleaned_train.csv')\n",
    "concat_bak.to_csv(base_path+'cleaned_all.csv')\n"
   ]
  },
  {
   "cell_type": "code",
   "execution_count": null,
   "metadata": {
    "collapsed": true
   },
   "outputs": [],
   "source": []
  }
 ],
 "metadata": {
  "kernelspec": {
   "display_name": "Python 2",
   "language": "python",
   "name": "python2"
  },
  "language_info": {
   "codemirror_mode": {
    "name": "ipython",
    "version": 2
   },
   "file_extension": ".py",
   "mimetype": "text/x-python",
   "name": "python",
   "nbconvert_exporter": "python",
   "pygments_lexer": "ipython2",
   "version": "2.7.12"
  }
 },
 "nbformat": 4,
 "nbformat_minor": 0
}
