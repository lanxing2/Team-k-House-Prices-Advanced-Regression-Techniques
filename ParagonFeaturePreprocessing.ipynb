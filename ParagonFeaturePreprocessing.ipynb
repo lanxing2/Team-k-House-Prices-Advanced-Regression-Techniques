{
 "cells": [
  {
   "cell_type": "code",
   "execution_count": 61,
   "metadata": {
    "collapsed": true
   },
   "outputs": [],
   "source": [
    "# This script creates a ton of features, then trains an ensemble of XGBoost \n",
    "# regressor, Lasso regressor, ElasticNet and KernelRidge.\n",
    "#\n",
    "# It borrows ideas from lots of other people's scripts, including:\n",
    "# https://www.kaggle.com/humananalog/house-prices-advanced-regression-techniques/xgboost-lasso\n",
    "# https://www.kaggle.com/klyusba/house-prices-advanced-regression-techniques/lasso-model-for-regression-problem/notebook\n",
    "# https://www.kaggle.com/juliencs/house-prices-advanced-regression-techniques/a-study-on-regression-applied-to-the-ames-dataset/\n",
    "# https://www.kaggle.com/apapiu/house-prices-advanced-regression-techniques/regularized-linear-models\n",
    "\n",
    "import datetime\n",
    "import numpy as np\n",
    "import pandas as pd\n",
    "\n",
    "# The error metric: RMSE on the log of the sale prices.\n",
    "from sklearn.metrics import mean_squared_error\n",
    "from sklearn.model_selection import KFold\n",
    "import xgboost as xgb\n",
    "from sklearn.linear_model import Lasso, Ridge, ElasticNet\n",
    "from sklearn.kernel_ridge import KernelRidge\n",
    "from sklearn.base import BaseEstimator, RegressorMixin\n",
    "\n",
    "from sklearn.preprocessing import LabelEncoder\n",
    "from scipy.stats import skew"
   ]
  },
  {
   "cell_type": "code",
   "execution_count": 62,
   "metadata": {
    "collapsed": true
   },
   "outputs": [],
   "source": [
    "# Load the data.\n",
    "base_path='D:/kaggle/regression/'\n",
    "train_df = pd.read_csv(base_path+'train.csv',index_col='Id')\n",
    "train_target=train_df['SalePrice']\n",
    "test_df = pd.read_csv(base_path+'test.csv',index_col='Id')"
   ]
  },
  {
   "cell_type": "code",
   "execution_count": 63,
   "metadata": {
    "collapsed": false
   },
   "outputs": [
    {
     "name": "stdout",
     "output_type": "stream",
     "text": [
      "Int64Index([   1,    2,    3,    4,    5,    6,    7,    8,    9,   10,\n",
      "            ...\n",
      "            1451, 1452, 1453, 1454, 1455, 1456, 1457, 1458, 1459, 1460],\n",
      "           dtype='int64', name=u'Id', length=1460)\n",
      "Int64Index([1461, 1462, 1463, 1464, 1465, 1466, 1467, 1468, 1469, 1470,\n",
      "            ...\n",
      "            2910, 2911, 2912, 2913, 2914, 2915, 2916, 2917, 2918, 2919],\n",
      "           dtype='int64', name=u'Id', length=1459)\n"
     ]
    }
   ],
   "source": [
    "print train_df.index\n",
    "print test_df.index"
   ]
  },
  {
   "cell_type": "code",
   "execution_count": 64,
   "metadata": {
    "collapsed": true
   },
   "outputs": [],
   "source": [
    "def fill_na_by_cat(df):\n",
    "    alldata=df.copy(deep=True)\n",
    "    \n",
    "    # Fill some columns first\n",
    "    alldata['MSSubClass'].fillna(np.nanmedian(df['MSSubClass']), inplace=True)\n",
    "    alldata['MSZoning'].fillna('RL', inplace=True)\n",
    "    alldata['Exterior1st'].fillna('Other', inplace=True)\n",
    "    alldata['Exterior2nd'].fillna('Other', inplace=True)\n",
    "    alldata['Exterior1st'].fillna('Other', inplace=True)\n",
    "    alldata['MasVnrType'].fillna('None', inplace=True)\n",
    "    alldata['MasVnrType'].fillna('None', inplace=True)\n",
    "    alldata['SaleType'].fillna('Oth', inplace=True)\n",
    "    \n",
    "    # The years are really tricky\n",
    "    alldata['GarageYrBlt'].fillna(1899, inplace=True)\n",
    "    alldata['YearBuilt'].fillna(1899, inplace=True)\n",
    "    alldata['YearRemodAdd'].fillna(2017, inplace=True)\n",
    "    alldata['YrSold'].fillna(2017, inplace=True)\n",
    "    \n",
    "    # Locate the NA columns\n",
    "    nacount_category=np.array(alldata.columns[((alldata.dtypes=='int64')|(alldata.dtypes=='float32')|(alldata.dtypes=='float64')| (alldata.dtypes=='object')) & (pd.isnull(alldata).sum()>0)])\n",
    "    print 'Columns that contain NA:',\n",
    "    print nacount_category\n",
    "    \n",
    "    # Define a few categories\n",
    "    category=np.array(alldata.columns[((alldata.dtypes=='int64') | (alldata.dtypes=='object'))])\n",
    "    Bsmtset=set(['BsmtQual','BsmtCond','BsmtExposure','BsmtFinType1','BsmtFinType2'])\n",
    "    MasVnrset=set(['MasVnrType'])\n",
    "    Garageset=set(['GarageType','GarageYrBlt','GarageFinish','GarageQual','GarageCond'])\n",
    "    Fireplaceset=set(['FireplaceQu'])\n",
    "    Poolset=set(['PoolQC'])\n",
    "    Emptyset=set(['Fence','MiscFeature','Alley'])\n",
    "    NAset=set(['MSZoning','Street','LotShape','LandContour','Utilities','LotConfig','LandSlope',\n",
    "               'Neighborhood','Condition1','Condition2','BldgType','HouseStyle','RoofStyle',\n",
    "               'RoofMatl','Exterior1st','Exterior2nd','ExterQual','ExterCond','Foundation','Heating','HeatingQC',\n",
    "               'CentralAir','Electrical','KitchenQual','Functional','PavedDrive','SaleType','SaleCondition'])\n",
    "    Zeroset=['LotArea','LotFrontage','MasVnrArea','BsmtFinSF1','BsmtFinSF2',\n",
    "            'BsmtUnfSF','TotalBsmtSF','BsmtFullBath','BsmtHalfBath','GarageCars','GarageArea',\n",
    "            'KitchenQual','Functional','LotArea','BsmtFullBath','BsmtHalfBath','PoolArea',\n",
    "            'Fireplaces','WoodDeckSF','OpenPorchSF','EnclosedPorch','3SsnPorch','ScreenPorch',\n",
    "             'MiscVal'\n",
    "            ] \n",
    "    Medianset=['MSSubClass','1stFlrSF','2ndFlrSF','LowQualFinSF','GrLivArea','BedroomAbvGr',\n",
    "              'KitchenAbvGr','TotRmsAbvGrd','FullBath','HalfBath']\n",
    "    Averageset=['OverallQual','OverallCond']\n",
    "    \n",
    "    # Fill based on category\n",
    "    for i in nacount_category:\n",
    "        if i in Bsmtset:\n",
    "            alldata.ix[pd.isnull(alldata.ix[:,i]) & (alldata['TotalBsmtSF']==0),i]='Empty'\n",
    "            alldata.ix[pd.isnull(alldata.ix[:,i]),i]=alldata.ix[:,i].value_counts().index[0]\n",
    "        elif i in MasVnrset:\n",
    "            alldata.ix[pd.isnull(alldata.ix[:,i]) & (alldata['MasVnrArea']==0),i]='Empty'\n",
    "            alldata.ix[pd.isnull(alldata.ix[:,i]),i]=alldata.ix[:,i].value_counts().index[0]\n",
    "        elif i in Garageset:\n",
    "            alldata.ix[pd.isnull(alldata.ix[:,i]) & (alldata['GarageArea']==0),i]='Empty'\n",
    "            alldata.ix[pd.isnull(alldata.ix[:,i]),i]=alldata.ix[:,i].value_counts().index[0]\n",
    "        elif i in Fireplaceset:\n",
    "            alldata.ix[pd.isnull(alldata.ix[:,i]) & (alldata['Fireplaces']==0),i]='Empty'\n",
    "            alldata.ix[pd.isnull(alldata.ix[:,i]),i]=alldata.ix[:,i].value_counts().index[0]\n",
    "        elif i in Poolset:\n",
    "            alldata.ix[pd.isnull(alldata.ix[:,i]) & (alldata['PoolArea']==0),i]='Empty'\n",
    "            alldata.ix[pd.isnull(alldata.ix[:,i]),i]=alldata.ix[:,i].value_counts().index[0]\n",
    "        elif i in Emptyset:\n",
    "            alldata.ix[pd.isnull(alldata.ix[:,i]),i]='Empty'\n",
    "        elif i in NAset:\n",
    "            alldata.ix[pd.isnull(alldata.ix[:,i]),i]='NA'\n",
    "        elif i in Zeroset:\n",
    "            alldata.ix[pd.isnull(alldata.ix[:,i]),i]=0\n",
    "        elif i in Averageset:\n",
    "            alldata.ix[pd.isnull(alldata.ix[:,i]),i]=5\n",
    "        elif i in Medianset:\n",
    "#             print 'Filling column ',i,' with median'\n",
    "            alldata.ix[pd.isnull(alldata.ix[:,i]),i]=np.nanmedian(alldata[i])\n",
    "        else:\n",
    "            if alldata[i].dtype == 'object':\n",
    "                print i\n",
    "#                 print 'Column ',i,' is of type object. Leave it there.'\n",
    "            else:\n",
    "                print 'Column ',i,' still needs handling'\n",
    "#             alldata.ix[pd.isnull(alldata.ix[:,i]),i]=alldata.ix[:,i].value_counts().index[0] # This fills NA with the 1st value, not the best way\n",
    "            \n",
    "    # Valudate before returning\n",
    "    nacount_category=np.array(alldata.columns[((alldata.dtypes=='int64')|(alldata.dtypes=='float32')|(alldata.dtypes=='float64')| (alldata.dtypes=='object')) & (pd.isnull(alldata).sum()>0)])\n",
    "    print 'Columns that still contain NA:',\n",
    "    print nacount_category\n",
    "    \n",
    "    return alldata"
   ]
  },
  {
   "cell_type": "code",
   "execution_count": 65,
   "metadata": {
    "collapsed": false
   },
   "outputs": [
    {
     "data": {
      "text/plain": [
       "True"
      ]
     },
     "execution_count": 65,
     "metadata": {},
     "output_type": "execute_result"
    }
   ],
   "source": [
    "train_df['Electrical'].dtype == 'object'"
   ]
  },
  {
   "cell_type": "code",
   "execution_count": 36,
   "metadata": {
    "collapsed": false
   },
   "outputs": [
    {
     "name": "stdout",
     "output_type": "stream",
     "text": [
      "Electrical  type:  object\n",
      "3SsnPorch  type:  int64\n",
      "BsmtFullBath  type:  int64\n",
      "BsmtUnfSF  type:  int64\n",
      "OpenPorchSF  type:  int64\n",
      "2ndFlrSF  type:  int64\n",
      "HalfBath  type:  int64\n",
      "OverallCond  type:  int64\n",
      "LotArea  type:  int64\n",
      "GrLivArea  type:  int64\n",
      "YearRemodAdd  type:  int64\n",
      "MasVnrArea  type:  float64\n",
      "1stFlrSF  type:  int64\n",
      "Fireplaces  type:  int64\n",
      "LotFrontage  type:  float64\n",
      "MiscVal  type:  int64\n",
      "OverallQual  type:  int64\n",
      "KitchenAbvGr  type:  int64\n",
      "WoodDeckSF  type:  int64\n",
      "BsmtHalfBath  type:  int64\n",
      "TotalBsmtSF  type:  int64\n",
      "TotRmsAbvGrd  type:  int64\n",
      "EnclosedPorch  type:  int64\n",
      "FullBath  type:  int64\n",
      "YrSold  type:  int64\n",
      "MSSubClass  type:  int64\n",
      "YearBuilt  type:  int64\n",
      "BsmtFinSF1  type:  int64\n",
      "BsmtFinSF2  type:  int64\n",
      "PoolArea  type:  int64\n",
      "ScreenPorch  type:  int64\n",
      "BedroomAbvGr  type:  int64\n",
      "LowQualFinSF  type:  int64\n",
      "GarageArea  type:  int64\n",
      "GarageCars  type:  int64\n"
     ]
    }
   ],
   "source": [
    "# Cbeck the type of column\n",
    "targets=['Electrical','3SsnPorch', 'BsmtFullBath', 'BsmtUnfSF', 'OpenPorchSF', '2ndFlrSF', 'HalfBath', 'OverallCond', 'LotArea', 'GrLivArea', 'YearRemodAdd', 'MasVnrArea', '1stFlrSF', 'Fireplaces', 'LotFrontage', 'MiscVal', 'OverallQual', 'KitchenAbvGr', 'WoodDeckSF', 'BsmtHalfBath', 'TotalBsmtSF', 'TotRmsAbvGrd', 'EnclosedPorch', 'FullBath', 'YrSold', 'MSSubClass', 'YearBuilt', 'BsmtFinSF1', 'BsmtFinSF2', 'PoolArea', 'ScreenPorch', 'BedroomAbvGr', 'LowQualFinSF', 'GarageArea', 'GarageCars']\n",
    "for t in targets:\n",
    "    print t,' type: ',train_df[t].dtype"
   ]
  },
  {
   "cell_type": "code",
   "execution_count": 66,
   "metadata": {
    "collapsed": false
   },
   "outputs": [
    {
     "name": "stdout",
     "output_type": "stream",
     "text": [
      "Columns that contain NA: ['LotFrontage' 'Alley' 'MasVnrArea' 'BsmtQual' 'BsmtCond' 'BsmtExposure'\n",
      " 'BsmtFinType1' 'BsmtFinType2' 'Electrical' 'FireplaceQu' 'GarageType'\n",
      " 'GarageFinish' 'GarageQual' 'GarageCond' 'PoolQC' 'Fence' 'MiscFeature']\n",
      "Columns that still contain NA: []\n",
      "Columns that contain NA: ['LotFrontage' 'Alley' 'Utilities' 'MasVnrArea' 'BsmtQual' 'BsmtCond'\n",
      " 'BsmtExposure' 'BsmtFinType1' 'BsmtFinSF1' 'BsmtFinType2' 'BsmtFinSF2'\n",
      " 'BsmtUnfSF' 'TotalBsmtSF' 'BsmtFullBath' 'BsmtHalfBath' 'KitchenQual'\n",
      " 'Functional' 'FireplaceQu' 'GarageType' 'GarageFinish' 'GarageCars'\n",
      " 'GarageArea' 'GarageQual' 'GarageCond' 'PoolQC' 'Fence' 'MiscFeature']\n",
      "Columns that still contain NA: []\n"
     ]
    }
   ],
   "source": [
    "# Fill NA columns\n",
    "train_filled=fill_na_by_cat(train_df)\n",
    "train_filled.index=train_df.index\n",
    "test_filled=fill_na_by_cat(test_df)\n",
    "test_filled.index=test_df.index"
   ]
  },
  {
   "cell_type": "code",
   "execution_count": 67,
   "metadata": {
    "collapsed": true
   },
   "outputs": [],
   "source": [
    "# Check for nan in numeric features\n",
    "def check_nan(df,features):\n",
    "    empty_list=[]\n",
    "    for f in features:\n",
    "        empty_index=df[df[f].isnull()].index\n",
    "        if len(empty_index) > 0:\n",
    "            print 'Feature ',f,'of type ',df[f].dtype,' contains NAN'\n",
    "            empty_list.append(f)\n",
    "            print empty_index\n",
    "    return empty_list"
   ]
  },
  {
   "cell_type": "code",
   "execution_count": 68,
   "metadata": {
    "collapsed": false
   },
   "outputs": [
    {
     "name": "stdout",
     "output_type": "stream",
     "text": [
      "Checking NA before anything starts\n",
      "Numeric features:  Index([u'MSSubClass', u'LotFrontage', u'LotArea', u'OverallQual',\n",
      "       u'OverallCond', u'YearBuilt', u'YearRemodAdd', u'MasVnrArea',\n",
      "       u'BsmtFinSF1', u'BsmtFinSF2', u'BsmtUnfSF', u'TotalBsmtSF', u'1stFlrSF',\n",
      "       u'2ndFlrSF', u'LowQualFinSF', u'GrLivArea', u'BsmtFullBath',\n",
      "       u'BsmtHalfBath', u'FullBath', u'HalfBath', u'BedroomAbvGr',\n",
      "       u'KitchenAbvGr', u'TotRmsAbvGrd', u'Fireplaces', u'GarageYrBlt',\n",
      "       u'GarageCars', u'GarageArea', u'WoodDeckSF', u'OpenPorchSF',\n",
      "       u'EnclosedPorch', u'3SsnPorch', u'ScreenPorch', u'PoolArea', u'MiscVal',\n",
      "       u'MoSold', u'YrSold'],\n",
      "      dtype='object')\n",
      "Checking training set\n",
      "Checking test set\n",
      "Columns that still needs NA handling\n",
      "[]\n"
     ]
    }
   ],
   "source": [
    "# Check if there are any NA\n",
    "print 'Checking NA before anything starts'\n",
    "numeric_features = test_filled.dtypes[test_filled.dtypes != 'object'].index\n",
    "print 'Numeric features: ',\n",
    "print numeric_features\n",
    "\n",
    "print 'Checking training set'\n",
    "empty_columns_train=check_nan(train_filled,numeric_features)\n",
    "print 'Checking test set'\n",
    "empty_columns_test=check_nan(test_filled,numeric_features)\n",
    "\n",
    "# Output the set that still needs handling\n",
    "still_na=list(set(empty_columns_train) | set(empty_columns_test))\n",
    "print 'Columns that still needs NA handling'\n",
    "print still_na"
   ]
  },
  {
   "cell_type": "code",
   "execution_count": 69,
   "metadata": {
    "collapsed": true
   },
   "outputs": [],
   "source": [
    "def factorize(df, factor_df, column, fill_na=None):\n",
    "    factor_df[column] = df[column]\n",
    "    \n",
    "    # Check if there are still NA\n",
    "    print 'Checking NA'\n",
    "    print factor_df.loc[factor_df[column].isnull()]\n",
    "    \n",
    "    # Fill na\n",
    "    if fill_na is not None:\n",
    "#         print 'Fill NA, calculate target'\n",
    "#         median=np.nanmedian(df[column])\n",
    "#         print 'Median is ',median\n",
    "        print 'Fill NA with ',fill_na\n",
    "        factor_df[column].fillna(fill_na, inplace=True)\n",
    "    \n",
    "    le.fit(factor_df[column].unique())\n",
    "    factor_df[column] = le.transform(factor_df[column])\n",
    "    return factor_df"
   ]
  },
  {
   "cell_type": "code",
   "execution_count": 70,
   "metadata": {
    "collapsed": true
   },
   "outputs": [],
   "source": [
    "def check_unique_values(column):\n",
    "    print column.unique"
   ]
  },
  {
   "cell_type": "code",
   "execution_count": 71,
   "metadata": {
    "collapsed": true
   },
   "outputs": [],
   "source": [
    "# Combine all the (numerical) features into one big DataFrame. We don't add \n",
    "# the one-hot encoded variables here yet, that happens later on.\n",
    "def munge(df):\n",
    "    all_df = pd.DataFrame(index = df.index)\n",
    "    print 'Target DF has index column ',all_df.index\n",
    "   \n",
    "    all_df['LotFrontage'] = df['LotFrontage']   \n",
    "#     for key, group in lot_frontage_by_neighborhood:\n",
    "#         idx = (df['Neighborhood'] == key) & (df['LotFrontage'].isnull())\n",
    "#         all_df.loc[idx, 'LotFrontage'] = group.median()    \n",
    "\n",
    "    all_df['LotArea'] = df['LotArea']\n",
    "\n",
    "    all_df['MasVnrArea'] = df['MasVnrArea']\n",
    "#     all_df['MasVnrArea'].fillna(0, inplace=True)\n",
    "   \n",
    "    all_df['BsmtFinSF1'] = df['BsmtFinSF1']\n",
    "#     all_df['BsmtFinSF1'].fillna(0, inplace=True)\n",
    "\n",
    "    all_df['BsmtFinSF2'] = df['BsmtFinSF2']\n",
    "#     all_df['BsmtFinSF2'].fillna(0, inplace=True)\n",
    "\n",
    "    all_df['BsmtUnfSF'] = df['BsmtUnfSF']\n",
    "#     all_df['BsmtUnfSF'].fillna(0, inplace=True)\n",
    "\n",
    "    all_df['TotalBsmtSF'] = df['TotalBsmtSF']\n",
    "#     all_df['TotalBsmtSF'].fillna(0, inplace=True)\n",
    "\n",
    "    all_df['1stFlrSF'] = df['1stFlrSF']\n",
    "    all_df['2ndFlrSF'] = df['2ndFlrSF']\n",
    "    all_df['GrLivArea'] = df['GrLivArea']\n",
    "    \n",
    "    all_df['GarageArea'] = df['GarageArea']\n",
    "#     all_df['GarageArea'].fillna(0, inplace=True)\n",
    "\n",
    "    all_df['WoodDeckSF'] = df['WoodDeckSF']\n",
    "    all_df['OpenPorchSF'] = df['OpenPorchSF']\n",
    "    all_df['EnclosedPorch'] = df['EnclosedPorch']\n",
    "    all_df['3SsnPorch'] = df['3SsnPorch']\n",
    "    all_df['ScreenPorch'] = df['ScreenPorch']\n",
    "    \n",
    "    all_df['BsmtFullBath'] = df['BsmtFullBath']\n",
    "#     all_df['BsmtFullBath'].fillna(0, inplace=True)\n",
    "\n",
    "    all_df['BsmtHalfBath'] = df['BsmtHalfBath']\n",
    "#     all_df['BsmtHalfBath'].fillna(0, inplace=True)\n",
    "\n",
    "    all_df['FullBath'] = df['FullBath'] \n",
    "    all_df['HalfBath'] = df['HalfBath'] \n",
    "    all_df['BedroomAbvGr'] = df['BedroomAbvGr'] \n",
    "    all_df['KitchenAbvGr'] = df['KitchenAbvGr'] \n",
    "    all_df['TotRmsAbvGrd'] = df['TotRmsAbvGrd'] \n",
    "    all_df['Fireplaces'] = df['Fireplaces'] \n",
    "\n",
    "    all_df['GarageCars'] = df['GarageCars']\n",
    "#     all_df['GarageCars'].fillna(0, inplace=True)\n",
    "\n",
    "    all_df['CentralAir'] = (df['CentralAir'] == 'Y') * 1.0\n",
    "   \n",
    "    all_df['OverallQual'] = df['OverallQual']\n",
    "    all_df['OverallCond'] = df['OverallCond']\n",
    "\n",
    "    # Quality measurements are stored as text but we can convert them to \n",
    "    # numbers where a higher number means higher quality.\n",
    "\n",
    "    qual_dict = {None: 0, 'Po': 1, 'Fa': 2, 'TA': 3, 'Gd': 4, 'Ex': 5,'Empty':0,'NA':0}\n",
    "    all_df['ExterQual'] = df['ExterQual'].map(qual_dict).astype(int)\n",
    "    all_df['ExterCond'] = df['ExterCond'].map(qual_dict).astype(int)\n",
    "    \n",
    "    all_df['BsmtQual'] = df['BsmtQual'].map(qual_dict).astype(int)\n",
    "    all_df['BsmtCond'] = df['BsmtCond'].map(qual_dict).astype(int)\n",
    "    all_df['HeatingQC'] = df['HeatingQC'].map(qual_dict).astype(int)\n",
    "    all_df['KitchenQual'] = df['KitchenQual'].map(qual_dict).astype(int)\n",
    "    all_df['FireplaceQu'] = df['FireplaceQu'].map(qual_dict).astype(int)\n",
    "    all_df['GarageQual'] = df['GarageQual'].map(qual_dict).astype(int)\n",
    "    all_df['GarageCond'] = df['GarageCond'].map(qual_dict).astype(int)\n",
    "\n",
    "    all_df['BsmtExposure'] = df['BsmtExposure'].map(\n",
    "        {None: 0, 'No': 1, 'Mn': 2, 'Av': 3, 'Gd': 4,'Empty':0}).astype(int)\n",
    "\n",
    "    bsmt_fin_dict = {None: 0, 'Unf': 1, 'LwQ': 2, 'Rec': 3, 'BLQ': 4, 'ALQ': 5, 'GLQ': 6,'Empty':0}\n",
    "    all_df['BsmtFinType1'] = df['BsmtFinType1'].map(bsmt_fin_dict).astype(int)\n",
    "    all_df['BsmtFinType2'] = df['BsmtFinType2'].map(bsmt_fin_dict).astype(int)\n",
    "\n",
    "    all_df['Functional'] = df['Functional'].map(\n",
    "        {None: 0, 'Sal': 1, 'Sev': 2, 'Maj2': 3, 'Maj1': 4, \n",
    "         'Mod': 5, 'Min2': 6, 'Min1': 7, 'Typ': 8,'Empty':0,'NA':0}).astype(int)\n",
    "\n",
    "    all_df['GarageFinish'] = df['GarageFinish'].map(\n",
    "        {None: 0, 'Unf': 1, 'RFn': 2, 'Fin': 3,'Empty':0,'NA':0}).astype(int)\n",
    "\n",
    "    all_df['Fence'] = df['Fence'].map(\n",
    "        {None: 0, 'MnWw': 1, 'GdWo': 2, 'MnPrv': 3, 'GdPrv': 4,'Empty':0,'NA':0}).astype(int)\n",
    "\n",
    "    all_df['YearBuilt'] = df['YearBuilt']\n",
    "    all_df['YearRemodAdd'] = df['YearRemodAdd']\n",
    "\n",
    "    all_df['GarageYrBlt'] = df['GarageYrBlt']\n",
    "#     all_df['GarageYrBlt'].fillna(0.0, inplace=True)\n",
    "\n",
    "    all_df['MoSold'] = df['MoSold']\n",
    "    all_df['YrSold'] = df['YrSold']\n",
    "    \n",
    "    all_df['LowQualFinSF'] = df['LowQualFinSF']\n",
    "    all_df['MiscVal'] = df['MiscVal']\n",
    "\n",
    "    all_df['PoolQC'] = df['PoolQC'].map(qual_dict).astype(int)\n",
    "\n",
    "    all_df['PoolArea'] = df['PoolArea']\n",
    "#     all_df['PoolArea'].fillna(0, inplace=True)\n",
    "    \n",
    "    # Add categorical features as numbers too. It seems to help a bit.\n",
    "    all_df = factorize(df, all_df, 'MSSubClass')\n",
    "    all_df = factorize(df, all_df, 'MSZoning')\n",
    "    all_df = factorize(df, all_df, 'LotConfig')\n",
    "    all_df = factorize(df, all_df, 'Neighborhood')\n",
    "    all_df = factorize(df, all_df, 'Condition1')\n",
    "    all_df = factorize(df, all_df, 'BldgType')\n",
    "    all_df = factorize(df, all_df, 'HouseStyle')\n",
    "    all_df = factorize(df, all_df, 'RoofStyle')\n",
    "    all_df = factorize(df, all_df, 'Exterior1st')\n",
    "    all_df = factorize(df, all_df, 'Exterior2nd')\n",
    "    all_df = factorize(df, all_df, 'MasVnrType')\n",
    "    all_df = factorize(df, all_df, 'Foundation')\n",
    "    all_df = factorize(df, all_df, 'SaleType')\n",
    "    all_df = factorize(df, all_df, 'SaleCondition')\n",
    "\n",
    "    # IR2 and IR3 don't appear that often, so just make a distinction\n",
    "    # between regular and irregular.\n",
    "    all_df['IsRegularLotShape'] = (df['LotShape'] == 'Reg') * 1\n",
    "\n",
    "    # Most properties are level; bin the other possibilities together\n",
    "    # as 'not level'.\n",
    "    all_df['IsLandLevel'] = (df['LandContour'] == 'Lvl') * 1\n",
    "\n",
    "    # Most land slopes are gentle; treat the others as 'not gentle'.\n",
    "    all_df['IsLandSlopeGentle'] = (df['LandSlope'] == 'Gtl') * 1\n",
    "\n",
    "    # Most properties use standard circuit breakers.\n",
    "    all_df['IsElectricalSBrkr'] = (df['Electrical'] == 'SBrkr') * 1\n",
    "\n",
    "    # About 2/3rd have an attached garage.\n",
    "    all_df['IsGarageDetached'] = (df['GarageType'] == 'Detchd') * 1\n",
    "\n",
    "    # Most have a paved drive. Treat dirt/gravel and partial pavement\n",
    "    # as 'not paved'.\n",
    "    all_df['IsPavedDrive'] = (df['PavedDrive'] == 'Y') * 1\n",
    "\n",
    "    # The only interesting 'misc. feature' is the presence of a shed.\n",
    "    all_df['HasShed'] = (df['MiscFeature'] == 'Shed') * 1.  \n",
    "\n",
    "    # If YearRemodAdd != YearBuilt, then a remodeling took place at some point.\n",
    "    all_df['Remodeled'] = (all_df['YearRemodAdd'] != all_df['YearBuilt']) * 1\n",
    "    \n",
    "    # Did a remodeling happen in the year the house was sold?\n",
    "    all_df['RecentRemodel'] = (all_df['YearRemodAdd'] == all_df['YrSold']) * 1\n",
    "    \n",
    "    # Was this house sold in the year it was built?\n",
    "    all_df['VeryNewHouse'] = (all_df['YearBuilt'] == all_df['YrSold']) * 1\n",
    "\n",
    "    all_df['Has2ndFloor'] = (all_df['2ndFlrSF'] == 0) * 1\n",
    "    all_df['HasMasVnr'] = (all_df['MasVnrArea'] == 0) * 1\n",
    "    all_df['HasWoodDeck'] = (all_df['WoodDeckSF'] == 0) * 1\n",
    "    all_df['HasOpenPorch'] = (all_df['OpenPorchSF'] == 0) * 1\n",
    "    all_df['HasEnclosedPorch'] = (all_df['EnclosedPorch'] == 0) * 1\n",
    "    all_df['Has3SsnPorch'] = (all_df['3SsnPorch'] == 0) * 1\n",
    "    all_df['HasScreenPorch'] = (all_df['ScreenPorch'] == 0) * 1\n",
    "\n",
    "    # These features actually lower the score a little.\n",
    "    # all_df['HasBasement'] = df['BsmtQual'].isnull() * 1\n",
    "    # all_df['HasGarage'] = df['GarageQual'].isnull() * 1\n",
    "    # all_df['HasFireplace'] = df['FireplaceQu'].isnull() * 1\n",
    "    # all_df['HasFence'] = df['Fence'].isnull() * 1\n",
    "\n",
    "    # Months with the largest number of deals may be significant.\n",
    "    all_df['HighSeason'] = df['MoSold'].replace( \n",
    "        {1: 0, 2: 0, 3: 0, 4: 1, 5: 1, 6: 1, 7: 1, 8: 0, 9: 0, 10: 0, 11: 0, 12: 0})\n",
    "\n",
    "    all_df['NewerDwelling'] = df['MSSubClass'].replace(\n",
    "        {20: 1, 30: 0, 40: 0, 45: 0,50: 0, 60: 1, 70: 0, 75: 0, 80: 0, 85: 0,\n",
    "         90: 0, 120: 1, 150: 0, 160: 0, 180: 0, 190: 0})   \n",
    "    \n",
    "    all_df.loc[df.Neighborhood == 'NridgHt', 'Neighborhood_Good'] = 1\n",
    "    all_df.loc[df.Neighborhood == 'Crawfor', 'Neighborhood_Good'] = 1\n",
    "    all_df.loc[df.Neighborhood == 'StoneBr', 'Neighborhood_Good'] = 1\n",
    "    all_df.loc[df.Neighborhood == 'Somerst', 'Neighborhood_Good'] = 1\n",
    "    all_df.loc[df.Neighborhood == 'NoRidge', 'Neighborhood_Good'] = 1\n",
    "    all_df['Neighborhood_Good'].fillna(0, inplace=True)\n",
    "\n",
    "    all_df['SaleCondition_PriceDown'] = df.SaleCondition.replace(\n",
    "        # {'Abnorml': 1, 'Alloca': 1, 'AdjLand': 1, 'Family': 1, 'Normal': 0, 'Partial': 0})\n",
    "        {'Abnorml': 1, 'Alloca': 2, 'AdjLand': 3, 'Family': 4, 'Normal': 5, 'Partial': 0})\n",
    "\n",
    "    # House completed before sale or not\n",
    "    all_df['BoughtOffPlan'] = df.SaleCondition.replace(\n",
    "        {'Abnorml' : 0, 'Alloca' : 0, 'AdjLand' : 0, 'Family' : 0, 'Normal' : 0, 'Partial' : 1})\n",
    "    \n",
    "    # all_df['BadHeating'] = df.HeatingQC.replace(\n",
    "    #     {'Ex': 0, 'Gd': 0, 'TA': 0, 'Fa': 1, 'Po': 1})\n",
    "    all_df['BadHeating'] = df.HeatingQC.replace(\n",
    "        {'Ex': 0, 'Gd': 1, 'TA': 2, 'Fa': 3, 'Po': 4})\n",
    "\n",
    "    area_cols = ['LotFrontage', 'LotArea', 'MasVnrArea', 'BsmtFinSF1', 'BsmtFinSF2', 'BsmtUnfSF',\n",
    "                 'TotalBsmtSF', '1stFlrSF', '2ndFlrSF', 'GrLivArea', 'GarageArea', 'WoodDeckSF', \n",
    "                 'OpenPorchSF', 'EnclosedPorch', '3SsnPorch', 'ScreenPorch', 'LowQualFinSF', 'PoolArea' ]\n",
    "    all_df['TotalArea'] = all_df[area_cols].sum(axis=1)\n",
    "\n",
    "    all_df['TotalArea1st2nd'] = all_df['1stFlrSF'] + all_df['2ndFlrSF']\n",
    "\n",
    "    all_df['Age'] = 2010 - all_df['YearBuilt']\n",
    "    all_df['TimeSinceSold'] = 2010 - all_df['YrSold']\n",
    "\n",
    "    # If commented - a little bit worse on LB but better in CV\n",
    "#     all_df['SeasonSold'] = all_df['MoSold'].map({12:0, 1:0, 2:0, 3:1, 4:1, 5:1, \n",
    "#                                                   6:2, 7:2, 8:2, 9:3, 10:3, 11:3,}).astype(int)\n",
    "    \n",
    "    all_df['YearsSinceRemodel'] = all_df['YrSold'] - all_df['YearRemodAdd']\n",
    "    all_df['SimplOverallQual'] = all_df.OverallQual\n",
    "    all_df['SimplOverallCond'] = all_df.OverallCond\n",
    "    all_df['SimplPoolQC'] = all_df.PoolQC\n",
    "    all_df['SimplGarageCond'] = all_df.GarageCond\n",
    "    all_df['SimplGarageQual'] = all_df.GarageQual\n",
    "    all_df['SimplFireplaceQu'] = all_df.FireplaceQu\n",
    "    all_df['SimplFireplaceQu'] = all_df.FireplaceQu\n",
    "    all_df['SimplFunctional'] = all_df.Functional\n",
    "    all_df['SimplKitchenQual'] = all_df.KitchenQual\n",
    "    all_df['SimplHeatingQC'] = all_df.HeatingQC\n",
    "    all_df['SimplBsmtFinType1'] = all_df.BsmtFinType1\n",
    "    all_df['SimplBsmtFinType2'] = all_df.BsmtFinType2\n",
    "    all_df['SimplBsmtCond'] = all_df.BsmtCond\n",
    "    all_df['SimplBsmtQual'] = all_df.BsmtQual\n",
    "    all_df['SimplExterCond'] = all_df.ExterCond\n",
    "    all_df['SimplExterQual'] = all_df.ExterQual\n",
    "    \n",
    "    # Bin by neighborhood (a little arbitrarily). Values were computed by: \n",
    "    # train_df['SalePrice'].groupby(train_df['Neighborhood']).median().sort_values()\n",
    "    neighborhood_map = {\n",
    "        'MeadowV' : 0,  #  88000\n",
    "        'IDOTRR' : 1,   # 103000\n",
    "        'BrDale' : 1,   # 106000\n",
    "        'OldTown' : 1,  # 119000\n",
    "        'Edwards' : 1,  # 119500\n",
    "        'BrkSide' : 1,  # 124300\n",
    "        'Sawyer' : 1,   # 135000\n",
    "        'Blueste' : 1,  # 137500\n",
    "        'SWISU' : 2,    # 139500\n",
    "        'NAmes' : 2,    # 140000\n",
    "        'NPkVill' : 2,  # 146000\n",
    "        'Mitchel' : 2,  # 153500\n",
    "        'SawyerW' : 2,  # 179900\n",
    "        'Gilbert' : 2,  # 181000\n",
    "        'NWAmes' : 2,   # 182900\n",
    "        'Blmngtn' : 2,  # 191000\n",
    "        'CollgCr' : 2,  # 197200\n",
    "        'ClearCr' : 3,  # 200250\n",
    "        'Crawfor' : 3,  # 200624\n",
    "        'Veenker' : 3,  # 218000\n",
    "        'Somerst' : 3,  # 225500\n",
    "        'Timber' : 3,   # 228475\n",
    "        'StoneBr' : 4,  # 278000\n",
    "        'NoRidge' : 4,  # 290000\n",
    "        'NridgHt' : 4,  # 315000\n",
    "    }\n",
    "\n",
    "    all_df['NeighborhoodBin'] = df['Neighborhood'].map(neighborhood_map)\n",
    "    return all_df"
   ]
  },
  {
   "cell_type": "code",
   "execution_count": 72,
   "metadata": {
    "collapsed": false
   },
   "outputs": [
    {
     "name": "stdout",
     "output_type": "stream",
     "text": [
      "NA\n"
     ]
    }
   ],
   "source": [
    "qual_dict = {None: 0, 'Po': 1, 'Fa': 2, 'TA': 3, 'Gd': 4, 'Ex': 5,'Empty':0}\n",
    "for i in test_filled['KitchenQual']:\n",
    "    if i not in qual_dict:\n",
    "        print i"
   ]
  },
  {
   "cell_type": "code",
   "execution_count": 73,
   "metadata": {
    "collapsed": false
   },
   "outputs": [
    {
     "name": "stdout",
     "output_type": "stream",
     "text": [
      "NA\n",
      "NA\n"
     ]
    }
   ],
   "source": [
    "d={None: 0, 'Sal': 1, 'Sev': 2, 'Maj2': 3, 'Maj1': 4, \n",
    "         'Mod': 5, 'Min2': 6, 'Min1': 7, 'Typ': 8,'Empty':0}\n",
    "for i in test_filled['Functional']:\n",
    "    if i not in d:\n",
    "        print i"
   ]
  },
  {
   "cell_type": "code",
   "execution_count": 74,
   "metadata": {
    "collapsed": true
   },
   "outputs": [],
   "source": [
    "# There are a few houses with more than 4000 sq ft living area that are\n",
    "# outliers, so we drop them from the training data. (There is also one in\n",
    "# the test set but we obviously can't drop that one.)\n",
    "train_filled.drop(train_filled[train_filled['GrLivArea'] > 4000].index, inplace=True)"
   ]
  },
  {
   "cell_type": "code",
   "execution_count": 75,
   "metadata": {
    "collapsed": true
   },
   "outputs": [],
   "source": [
    "# For imputing missing values: fill in missing LotFrontage values by the median\n",
    "# LotFrontage of the neighborhood.\n",
    "lot_frontage_by_neighborhood = train_df['LotFrontage'].groupby(train_df['Neighborhood'])"
   ]
  },
  {
   "cell_type": "code",
   "execution_count": 76,
   "metadata": {
    "collapsed": false
   },
   "outputs": [
    {
     "data": {
      "text/html": [
       "<div>\n",
       "<table border=\"1\" class=\"dataframe\">\n",
       "  <thead>\n",
       "    <tr style=\"text-align: right;\">\n",
       "      <th></th>\n",
       "      <th>MSSubClass</th>\n",
       "      <th>MSZoning</th>\n",
       "      <th>LotFrontage</th>\n",
       "      <th>LotArea</th>\n",
       "      <th>Street</th>\n",
       "      <th>Alley</th>\n",
       "      <th>LotShape</th>\n",
       "      <th>LandContour</th>\n",
       "      <th>Utilities</th>\n",
       "      <th>LotConfig</th>\n",
       "      <th>...</th>\n",
       "      <th>ScreenPorch</th>\n",
       "      <th>PoolArea</th>\n",
       "      <th>PoolQC</th>\n",
       "      <th>Fence</th>\n",
       "      <th>MiscFeature</th>\n",
       "      <th>MiscVal</th>\n",
       "      <th>MoSold</th>\n",
       "      <th>YrSold</th>\n",
       "      <th>SaleType</th>\n",
       "      <th>SaleCondition</th>\n",
       "    </tr>\n",
       "    <tr>\n",
       "      <th>Id</th>\n",
       "      <th></th>\n",
       "      <th></th>\n",
       "      <th></th>\n",
       "      <th></th>\n",
       "      <th></th>\n",
       "      <th></th>\n",
       "      <th></th>\n",
       "      <th></th>\n",
       "      <th></th>\n",
       "      <th></th>\n",
       "      <th></th>\n",
       "      <th></th>\n",
       "      <th></th>\n",
       "      <th></th>\n",
       "      <th></th>\n",
       "      <th></th>\n",
       "      <th></th>\n",
       "      <th></th>\n",
       "      <th></th>\n",
       "      <th></th>\n",
       "      <th></th>\n",
       "    </tr>\n",
       "  </thead>\n",
       "  <tbody>\n",
       "  </tbody>\n",
       "</table>\n",
       "<p>0 rows × 79 columns</p>\n",
       "</div>"
      ],
      "text/plain": [
       "Empty DataFrame\n",
       "Columns: [MSSubClass, MSZoning, LotFrontage, LotArea, Street, Alley, LotShape, LandContour, Utilities, LotConfig, LandSlope, Neighborhood, Condition1, Condition2, BldgType, HouseStyle, OverallQual, OverallCond, YearBuilt, YearRemodAdd, RoofStyle, RoofMatl, Exterior1st, Exterior2nd, MasVnrType, MasVnrArea, ExterQual, ExterCond, Foundation, BsmtQual, BsmtCond, BsmtExposure, BsmtFinType1, BsmtFinSF1, BsmtFinType2, BsmtFinSF2, BsmtUnfSF, TotalBsmtSF, Heating, HeatingQC, CentralAir, Electrical, 1stFlrSF, 2ndFlrSF, LowQualFinSF, GrLivArea, BsmtFullBath, BsmtHalfBath, FullBath, HalfBath, BedroomAbvGr, KitchenAbvGr, KitchenQual, TotRmsAbvGrd, Functional, Fireplaces, FireplaceQu, GarageType, GarageYrBlt, GarageFinish, GarageCars, GarageArea, GarageQual, GarageCond, PavedDrive, WoodDeckSF, OpenPorchSF, EnclosedPorch, 3SsnPorch, ScreenPorch, PoolArea, PoolQC, Fence, MiscFeature, MiscVal, MoSold, YrSold, SaleType, SaleCondition]\n",
       "Index: []\n",
       "\n",
       "[0 rows x 79 columns]"
      ]
     },
     "execution_count": 76,
     "metadata": {},
     "output_type": "execute_result"
    }
   ],
   "source": [
    "# Check NAN\n",
    "train_filled.loc[train_filled.BsmtQual.isnull()]\n",
    "test_filled.loc[test_filled.BsmtQual.isnull()]"
   ]
  },
  {
   "cell_type": "code",
   "execution_count": 77,
   "metadata": {
    "collapsed": true
   },
   "outputs": [],
   "source": [
    "# Print columns that contains NAN\n",
    "def na_columns(df):\n",
    "    for k,v in df.isnull().any().iteritems():\n",
    "        if v:\n",
    "            print k"
   ]
  },
  {
   "cell_type": "code",
   "execution_count": 78,
   "metadata": {
    "collapsed": true
   },
   "outputs": [],
   "source": [
    "na_columns(train_filled)\n",
    "na_columns(test_filled)"
   ]
  },
  {
   "cell_type": "code",
   "execution_count": 79,
   "metadata": {
    "collapsed": false
   },
   "outputs": [
    {
     "name": "stdout",
     "output_type": "stream",
     "text": [
      "Target DF has index column  Int64Index([1461, 1462, 1463, 1464, 1465, 1466, 1467, 1468, 1469, 1470,\n",
      "            ...\n",
      "            2910, 2911, 2912, 2913, 2914, 2915, 2916, 2917, 2918, 2919],\n",
      "           dtype='int64', name=u'Id', length=1459)\n",
      "Checking NA\n",
      "Empty DataFrame\n",
      "Columns: [LotFrontage, LotArea, MasVnrArea, BsmtFinSF1, BsmtFinSF2, BsmtUnfSF, TotalBsmtSF, 1stFlrSF, 2ndFlrSF, GrLivArea, GarageArea, WoodDeckSF, OpenPorchSF, EnclosedPorch, 3SsnPorch, ScreenPorch, BsmtFullBath, BsmtHalfBath, FullBath, HalfBath, BedroomAbvGr, KitchenAbvGr, TotRmsAbvGrd, Fireplaces, GarageCars, CentralAir, OverallQual, OverallCond, ExterQual, ExterCond, BsmtQual, BsmtCond, HeatingQC, KitchenQual, FireplaceQu, GarageQual, GarageCond, BsmtExposure, BsmtFinType1, BsmtFinType2, Functional, GarageFinish, Fence, YearBuilt, YearRemodAdd, GarageYrBlt, MoSold, YrSold, LowQualFinSF, MiscVal, PoolQC, PoolArea, MSSubClass]\n",
      "Index: []\n",
      "\n",
      "[0 rows x 53 columns]\n",
      "Checking NA\n",
      "Empty DataFrame\n",
      "Columns: [LotFrontage, LotArea, MasVnrArea, BsmtFinSF1, BsmtFinSF2, BsmtUnfSF, TotalBsmtSF, 1stFlrSF, 2ndFlrSF, GrLivArea, GarageArea, WoodDeckSF, OpenPorchSF, EnclosedPorch, 3SsnPorch, ScreenPorch, BsmtFullBath, BsmtHalfBath, FullBath, HalfBath, BedroomAbvGr, KitchenAbvGr, TotRmsAbvGrd, Fireplaces, GarageCars, CentralAir, OverallQual, OverallCond, ExterQual, ExterCond, BsmtQual, BsmtCond, HeatingQC, KitchenQual, FireplaceQu, GarageQual, GarageCond, BsmtExposure, BsmtFinType1, BsmtFinType2, Functional, GarageFinish, Fence, YearBuilt, YearRemodAdd, GarageYrBlt, MoSold, YrSold, LowQualFinSF, MiscVal, PoolQC, PoolArea, MSSubClass, MSZoning]\n",
      "Index: []\n",
      "\n",
      "[0 rows x 54 columns]\n",
      "Checking NA\n",
      "Empty DataFrame\n",
      "Columns: [LotFrontage, LotArea, MasVnrArea, BsmtFinSF1, BsmtFinSF2, BsmtUnfSF, TotalBsmtSF, 1stFlrSF, 2ndFlrSF, GrLivArea, GarageArea, WoodDeckSF, OpenPorchSF, EnclosedPorch, 3SsnPorch, ScreenPorch, BsmtFullBath, BsmtHalfBath, FullBath, HalfBath, BedroomAbvGr, KitchenAbvGr, TotRmsAbvGrd, Fireplaces, GarageCars, CentralAir, OverallQual, OverallCond, ExterQual, ExterCond, BsmtQual, BsmtCond, HeatingQC, KitchenQual, FireplaceQu, GarageQual, GarageCond, BsmtExposure, BsmtFinType1, BsmtFinType2, Functional, GarageFinish, Fence, YearBuilt, YearRemodAdd, GarageYrBlt, MoSold, YrSold, LowQualFinSF, MiscVal, PoolQC, PoolArea, MSSubClass, MSZoning, LotConfig]\n",
      "Index: []\n",
      "\n",
      "[0 rows x 55 columns]\n",
      "Checking NA\n",
      "Empty DataFrame\n",
      "Columns: [LotFrontage, LotArea, MasVnrArea, BsmtFinSF1, BsmtFinSF2, BsmtUnfSF, TotalBsmtSF, 1stFlrSF, 2ndFlrSF, GrLivArea, GarageArea, WoodDeckSF, OpenPorchSF, EnclosedPorch, 3SsnPorch, ScreenPorch, BsmtFullBath, BsmtHalfBath, FullBath, HalfBath, BedroomAbvGr, KitchenAbvGr, TotRmsAbvGrd, Fireplaces, GarageCars, CentralAir, OverallQual, OverallCond, ExterQual, ExterCond, BsmtQual, BsmtCond, HeatingQC, KitchenQual, FireplaceQu, GarageQual, GarageCond, BsmtExposure, BsmtFinType1, BsmtFinType2, Functional, GarageFinish, Fence, YearBuilt, YearRemodAdd, GarageYrBlt, MoSold, YrSold, LowQualFinSF, MiscVal, PoolQC, PoolArea, MSSubClass, MSZoning, LotConfig, Neighborhood]\n",
      "Index: []\n",
      "\n",
      "[0 rows x 56 columns]\n",
      "Checking NA\n",
      "Empty DataFrame\n",
      "Columns: [LotFrontage, LotArea, MasVnrArea, BsmtFinSF1, BsmtFinSF2, BsmtUnfSF, TotalBsmtSF, 1stFlrSF, 2ndFlrSF, GrLivArea, GarageArea, WoodDeckSF, OpenPorchSF, EnclosedPorch, 3SsnPorch, ScreenPorch, BsmtFullBath, BsmtHalfBath, FullBath, HalfBath, BedroomAbvGr, KitchenAbvGr, TotRmsAbvGrd, Fireplaces, GarageCars, CentralAir, OverallQual, OverallCond, ExterQual, ExterCond, BsmtQual, BsmtCond, HeatingQC, KitchenQual, FireplaceQu, GarageQual, GarageCond, BsmtExposure, BsmtFinType1, BsmtFinType2, Functional, GarageFinish, Fence, YearBuilt, YearRemodAdd, GarageYrBlt, MoSold, YrSold, LowQualFinSF, MiscVal, PoolQC, PoolArea, MSSubClass, MSZoning, LotConfig, Neighborhood, Condition1]\n",
      "Index: []\n",
      "\n",
      "[0 rows x 57 columns]\n",
      "Checking NA\n",
      "Empty DataFrame\n",
      "Columns: [LotFrontage, LotArea, MasVnrArea, BsmtFinSF1, BsmtFinSF2, BsmtUnfSF, TotalBsmtSF, 1stFlrSF, 2ndFlrSF, GrLivArea, GarageArea, WoodDeckSF, OpenPorchSF, EnclosedPorch, 3SsnPorch, ScreenPorch, BsmtFullBath, BsmtHalfBath, FullBath, HalfBath, BedroomAbvGr, KitchenAbvGr, TotRmsAbvGrd, Fireplaces, GarageCars, CentralAir, OverallQual, OverallCond, ExterQual, ExterCond, BsmtQual, BsmtCond, HeatingQC, KitchenQual, FireplaceQu, GarageQual, GarageCond, BsmtExposure, BsmtFinType1, BsmtFinType2, Functional, GarageFinish, Fence, YearBuilt, YearRemodAdd, GarageYrBlt, MoSold, YrSold, LowQualFinSF, MiscVal, PoolQC, PoolArea, MSSubClass, MSZoning, LotConfig, Neighborhood, Condition1, BldgType]\n",
      "Index: []\n",
      "\n",
      "[0 rows x 58 columns]\n",
      "Checking NA\n",
      "Empty DataFrame\n",
      "Columns: [LotFrontage, LotArea, MasVnrArea, BsmtFinSF1, BsmtFinSF2, BsmtUnfSF, TotalBsmtSF, 1stFlrSF, 2ndFlrSF, GrLivArea, GarageArea, WoodDeckSF, OpenPorchSF, EnclosedPorch, 3SsnPorch, ScreenPorch, BsmtFullBath, BsmtHalfBath, FullBath, HalfBath, BedroomAbvGr, KitchenAbvGr, TotRmsAbvGrd, Fireplaces, GarageCars, CentralAir, OverallQual, OverallCond, ExterQual, ExterCond, BsmtQual, BsmtCond, HeatingQC, KitchenQual, FireplaceQu, GarageQual, GarageCond, BsmtExposure, BsmtFinType1, BsmtFinType2, Functional, GarageFinish, Fence, YearBuilt, YearRemodAdd, GarageYrBlt, MoSold, YrSold, LowQualFinSF, MiscVal, PoolQC, PoolArea, MSSubClass, MSZoning, LotConfig, Neighborhood, Condition1, BldgType, HouseStyle]\n",
      "Index: []\n",
      "\n",
      "[0 rows x 59 columns]\n",
      "Checking NA\n",
      "Empty DataFrame\n",
      "Columns: [LotFrontage, LotArea, MasVnrArea, BsmtFinSF1, BsmtFinSF2, BsmtUnfSF, TotalBsmtSF, 1stFlrSF, 2ndFlrSF, GrLivArea, GarageArea, WoodDeckSF, OpenPorchSF, EnclosedPorch, 3SsnPorch, ScreenPorch, BsmtFullBath, BsmtHalfBath, FullBath, HalfBath, BedroomAbvGr, KitchenAbvGr, TotRmsAbvGrd, Fireplaces, GarageCars, CentralAir, OverallQual, OverallCond, ExterQual, ExterCond, BsmtQual, BsmtCond, HeatingQC, KitchenQual, FireplaceQu, GarageQual, GarageCond, BsmtExposure, BsmtFinType1, BsmtFinType2, Functional, GarageFinish, Fence, YearBuilt, YearRemodAdd, GarageYrBlt, MoSold, YrSold, LowQualFinSF, MiscVal, PoolQC, PoolArea, MSSubClass, MSZoning, LotConfig, Neighborhood, Condition1, BldgType, HouseStyle, RoofStyle]\n",
      "Index: []\n",
      "\n",
      "[0 rows x 60 columns]\n",
      "Checking NA\n",
      "Empty DataFrame\n",
      "Columns: [LotFrontage, LotArea, MasVnrArea, BsmtFinSF1, BsmtFinSF2, BsmtUnfSF, TotalBsmtSF, 1stFlrSF, 2ndFlrSF, GrLivArea, GarageArea, WoodDeckSF, OpenPorchSF, EnclosedPorch, 3SsnPorch, ScreenPorch, BsmtFullBath, BsmtHalfBath, FullBath, HalfBath, BedroomAbvGr, KitchenAbvGr, TotRmsAbvGrd, Fireplaces, GarageCars, CentralAir, OverallQual, OverallCond, ExterQual, ExterCond, BsmtQual, BsmtCond, HeatingQC, KitchenQual, FireplaceQu, GarageQual, GarageCond, BsmtExposure, BsmtFinType1, BsmtFinType2, Functional, GarageFinish, Fence, YearBuilt, YearRemodAdd, GarageYrBlt, MoSold, YrSold, LowQualFinSF, MiscVal, PoolQC, PoolArea, MSSubClass, MSZoning, LotConfig, Neighborhood, Condition1, BldgType, HouseStyle, RoofStyle, Exterior1st]\n",
      "Index: []\n",
      "\n",
      "[0 rows x 61 columns]\n",
      "Checking NA\n",
      "Empty DataFrame\n",
      "Columns: [LotFrontage, LotArea, MasVnrArea, BsmtFinSF1, BsmtFinSF2, BsmtUnfSF, TotalBsmtSF, 1stFlrSF, 2ndFlrSF, GrLivArea, GarageArea, WoodDeckSF, OpenPorchSF, EnclosedPorch, 3SsnPorch, ScreenPorch, BsmtFullBath, BsmtHalfBath, FullBath, HalfBath, BedroomAbvGr, KitchenAbvGr, TotRmsAbvGrd, Fireplaces, GarageCars, CentralAir, OverallQual, OverallCond, ExterQual, ExterCond, BsmtQual, BsmtCond, HeatingQC, KitchenQual, FireplaceQu, GarageQual, GarageCond, BsmtExposure, BsmtFinType1, BsmtFinType2, Functional, GarageFinish, Fence, YearBuilt, YearRemodAdd, GarageYrBlt, MoSold, YrSold, LowQualFinSF, MiscVal, PoolQC, PoolArea, MSSubClass, MSZoning, LotConfig, Neighborhood, Condition1, BldgType, HouseStyle, RoofStyle, Exterior1st, Exterior2nd]\n",
      "Index: []\n",
      "\n",
      "[0 rows x 62 columns]\n",
      "Checking NA\n",
      "Empty DataFrame\n",
      "Columns: [LotFrontage, LotArea, MasVnrArea, BsmtFinSF1, BsmtFinSF2, BsmtUnfSF, TotalBsmtSF, 1stFlrSF, 2ndFlrSF, GrLivArea, GarageArea, WoodDeckSF, OpenPorchSF, EnclosedPorch, 3SsnPorch, ScreenPorch, BsmtFullBath, BsmtHalfBath, FullBath, HalfBath, BedroomAbvGr, KitchenAbvGr, TotRmsAbvGrd, Fireplaces, GarageCars, CentralAir, OverallQual, OverallCond, ExterQual, ExterCond, BsmtQual, BsmtCond, HeatingQC, KitchenQual, FireplaceQu, GarageQual, GarageCond, BsmtExposure, BsmtFinType1, BsmtFinType2, Functional, GarageFinish, Fence, YearBuilt, YearRemodAdd, GarageYrBlt, MoSold, YrSold, LowQualFinSF, MiscVal, PoolQC, PoolArea, MSSubClass, MSZoning, LotConfig, Neighborhood, Condition1, BldgType, HouseStyle, RoofStyle, Exterior1st, Exterior2nd, MasVnrType]\n",
      "Index: []\n",
      "\n",
      "[0 rows x 63 columns]\n",
      "Checking NA\n",
      "Empty DataFrame\n",
      "Columns: [LotFrontage, LotArea, MasVnrArea, BsmtFinSF1, BsmtFinSF2, BsmtUnfSF, TotalBsmtSF, 1stFlrSF, 2ndFlrSF, GrLivArea, GarageArea, WoodDeckSF, OpenPorchSF, EnclosedPorch, 3SsnPorch, ScreenPorch, BsmtFullBath, BsmtHalfBath, FullBath, HalfBath, BedroomAbvGr, KitchenAbvGr, TotRmsAbvGrd, Fireplaces, GarageCars, CentralAir, OverallQual, OverallCond, ExterQual, ExterCond, BsmtQual, BsmtCond, HeatingQC, KitchenQual, FireplaceQu, GarageQual, GarageCond, BsmtExposure, BsmtFinType1, BsmtFinType2, Functional, GarageFinish, Fence, YearBuilt, YearRemodAdd, GarageYrBlt, MoSold, YrSold, LowQualFinSF, MiscVal, PoolQC, PoolArea, MSSubClass, MSZoning, LotConfig, Neighborhood, Condition1, BldgType, HouseStyle, RoofStyle, Exterior1st, Exterior2nd, MasVnrType, Foundation]\n",
      "Index: []\n",
      "\n",
      "[0 rows x 64 columns]\n",
      "Checking NA\n",
      "Empty DataFrame\n",
      "Columns: [LotFrontage, LotArea, MasVnrArea, BsmtFinSF1, BsmtFinSF2, BsmtUnfSF, TotalBsmtSF, 1stFlrSF, 2ndFlrSF, GrLivArea, GarageArea, WoodDeckSF, OpenPorchSF, EnclosedPorch, 3SsnPorch, ScreenPorch, BsmtFullBath, BsmtHalfBath, FullBath, HalfBath, BedroomAbvGr, KitchenAbvGr, TotRmsAbvGrd, Fireplaces, GarageCars, CentralAir, OverallQual, OverallCond, ExterQual, ExterCond, BsmtQual, BsmtCond, HeatingQC, KitchenQual, FireplaceQu, GarageQual, GarageCond, BsmtExposure, BsmtFinType1, BsmtFinType2, Functional, GarageFinish, Fence, YearBuilt, YearRemodAdd, GarageYrBlt, MoSold, YrSold, LowQualFinSF, MiscVal, PoolQC, PoolArea, MSSubClass, MSZoning, LotConfig, Neighborhood, Condition1, BldgType, HouseStyle, RoofStyle, Exterior1st, Exterior2nd, MasVnrType, Foundation, SaleType]\n",
      "Index: []\n",
      "\n",
      "[0 rows x 65 columns]\n",
      "Checking NA\n",
      "Empty DataFrame\n",
      "Columns: [LotFrontage, LotArea, MasVnrArea, BsmtFinSF1, BsmtFinSF2, BsmtUnfSF, TotalBsmtSF, 1stFlrSF, 2ndFlrSF, GrLivArea, GarageArea, WoodDeckSF, OpenPorchSF, EnclosedPorch, 3SsnPorch, ScreenPorch, BsmtFullBath, BsmtHalfBath, FullBath, HalfBath, BedroomAbvGr, KitchenAbvGr, TotRmsAbvGrd, Fireplaces, GarageCars, CentralAir, OverallQual, OverallCond, ExterQual, ExterCond, BsmtQual, BsmtCond, HeatingQC, KitchenQual, FireplaceQu, GarageQual, GarageCond, BsmtExposure, BsmtFinType1, BsmtFinType2, Functional, GarageFinish, Fence, YearBuilt, YearRemodAdd, GarageYrBlt, MoSold, YrSold, LowQualFinSF, MiscVal, PoolQC, PoolArea, MSSubClass, MSZoning, LotConfig, Neighborhood, Condition1, BldgType, HouseStyle, RoofStyle, Exterior1st, Exterior2nd, MasVnrType, Foundation, SaleType, SaleCondition]\n",
      "Index: []\n",
      "\n",
      "[0 rows x 66 columns]\n",
      "Target DF has index column  Int64Index([   1,    2,    3,    4,    5,    6,    7,    8,    9,   10,\n",
      "            ...\n",
      "            1451, 1452, 1453, 1454, 1455, 1456, 1457, 1458, 1459, 1460],\n",
      "           dtype='int64', name=u'Id', length=1456)\n",
      "Checking NA\n",
      "Empty DataFrame\n",
      "Columns: [LotFrontage, LotArea, MasVnrArea, BsmtFinSF1, BsmtFinSF2, BsmtUnfSF, TotalBsmtSF, 1stFlrSF, 2ndFlrSF, GrLivArea, GarageArea, WoodDeckSF, OpenPorchSF, EnclosedPorch, 3SsnPorch, ScreenPorch, BsmtFullBath, BsmtHalfBath, FullBath, HalfBath, BedroomAbvGr, KitchenAbvGr, TotRmsAbvGrd, Fireplaces, GarageCars, CentralAir, OverallQual, OverallCond, ExterQual, ExterCond, BsmtQual, BsmtCond, HeatingQC, KitchenQual, FireplaceQu, GarageQual, GarageCond, BsmtExposure, BsmtFinType1, BsmtFinType2, Functional, GarageFinish, Fence, YearBuilt, YearRemodAdd, GarageYrBlt, MoSold, YrSold, LowQualFinSF, MiscVal, PoolQC, PoolArea, MSSubClass]\n",
      "Index: []\n",
      "\n",
      "[0 rows x 53 columns]\n",
      "Checking NA\n",
      "Empty DataFrame\n",
      "Columns: [LotFrontage, LotArea, MasVnrArea, BsmtFinSF1, BsmtFinSF2, BsmtUnfSF, TotalBsmtSF, 1stFlrSF, 2ndFlrSF, GrLivArea, GarageArea, WoodDeckSF, OpenPorchSF, EnclosedPorch, 3SsnPorch, ScreenPorch, BsmtFullBath, BsmtHalfBath, FullBath, HalfBath, BedroomAbvGr, KitchenAbvGr, TotRmsAbvGrd, Fireplaces, GarageCars, CentralAir, OverallQual, OverallCond, ExterQual, ExterCond, BsmtQual, BsmtCond, HeatingQC, KitchenQual, FireplaceQu, GarageQual, GarageCond, BsmtExposure, BsmtFinType1, BsmtFinType2, Functional, GarageFinish, Fence, YearBuilt, YearRemodAdd, GarageYrBlt, MoSold, YrSold, LowQualFinSF, MiscVal, PoolQC, PoolArea, MSSubClass, MSZoning]\n",
      "Index: []\n",
      "\n",
      "[0 rows x 54 columns]\n",
      "Checking NA\n",
      "Empty DataFrame\n",
      "Columns: [LotFrontage, LotArea, MasVnrArea, BsmtFinSF1, BsmtFinSF2, BsmtUnfSF, TotalBsmtSF, 1stFlrSF, 2ndFlrSF, GrLivArea, GarageArea, WoodDeckSF, OpenPorchSF, EnclosedPorch, 3SsnPorch, ScreenPorch, BsmtFullBath, BsmtHalfBath, FullBath, HalfBath, BedroomAbvGr, KitchenAbvGr, TotRmsAbvGrd, Fireplaces, GarageCars, CentralAir, OverallQual, OverallCond, ExterQual, ExterCond, BsmtQual, BsmtCond, HeatingQC, KitchenQual, FireplaceQu, GarageQual, GarageCond, BsmtExposure, BsmtFinType1, BsmtFinType2, Functional, GarageFinish, Fence, YearBuilt, YearRemodAdd, GarageYrBlt, MoSold, YrSold, LowQualFinSF, MiscVal, PoolQC, PoolArea, MSSubClass, MSZoning, LotConfig]\n",
      "Index: []\n",
      "\n",
      "[0 rows x 55 columns]\n",
      "Checking NA\n",
      "Empty DataFrame\n",
      "Columns: [LotFrontage, LotArea, MasVnrArea, BsmtFinSF1, BsmtFinSF2, BsmtUnfSF, TotalBsmtSF, 1stFlrSF, 2ndFlrSF, GrLivArea, GarageArea, WoodDeckSF, OpenPorchSF, EnclosedPorch, 3SsnPorch, ScreenPorch, BsmtFullBath, BsmtHalfBath, FullBath, HalfBath, BedroomAbvGr, KitchenAbvGr, TotRmsAbvGrd, Fireplaces, GarageCars, CentralAir, OverallQual, OverallCond, ExterQual, ExterCond, BsmtQual, BsmtCond, HeatingQC, KitchenQual, FireplaceQu, GarageQual, GarageCond, BsmtExposure, BsmtFinType1, BsmtFinType2, Functional, GarageFinish, Fence, YearBuilt, YearRemodAdd, GarageYrBlt, MoSold, YrSold, LowQualFinSF, MiscVal, PoolQC, PoolArea, MSSubClass, MSZoning, LotConfig, Neighborhood]\n",
      "Index: []\n",
      "\n",
      "[0 rows x 56 columns]\n",
      "Checking NA\n",
      "Empty DataFrame\n",
      "Columns: [LotFrontage, LotArea, MasVnrArea, BsmtFinSF1, BsmtFinSF2, BsmtUnfSF, TotalBsmtSF, 1stFlrSF, 2ndFlrSF, GrLivArea, GarageArea, WoodDeckSF, OpenPorchSF, EnclosedPorch, 3SsnPorch, ScreenPorch, BsmtFullBath, BsmtHalfBath, FullBath, HalfBath, BedroomAbvGr, KitchenAbvGr, TotRmsAbvGrd, Fireplaces, GarageCars, CentralAir, OverallQual, OverallCond, ExterQual, ExterCond, BsmtQual, BsmtCond, HeatingQC, KitchenQual, FireplaceQu, GarageQual, GarageCond, BsmtExposure, BsmtFinType1, BsmtFinType2, Functional, GarageFinish, Fence, YearBuilt, YearRemodAdd, GarageYrBlt, MoSold, YrSold, LowQualFinSF, MiscVal, PoolQC, PoolArea, MSSubClass, MSZoning, LotConfig, Neighborhood, Condition1]\n",
      "Index: []\n",
      "\n",
      "[0 rows x 57 columns]\n",
      "Checking NA\n",
      "Empty DataFrame\n",
      "Columns: [LotFrontage, LotArea, MasVnrArea, BsmtFinSF1, BsmtFinSF2, BsmtUnfSF, TotalBsmtSF, 1stFlrSF, 2ndFlrSF, GrLivArea, GarageArea, WoodDeckSF, OpenPorchSF, EnclosedPorch, 3SsnPorch, ScreenPorch, BsmtFullBath, BsmtHalfBath, FullBath, HalfBath, BedroomAbvGr, KitchenAbvGr, TotRmsAbvGrd, Fireplaces, GarageCars, CentralAir, OverallQual, OverallCond, ExterQual, ExterCond, BsmtQual, BsmtCond, HeatingQC, KitchenQual, FireplaceQu, GarageQual, GarageCond, BsmtExposure, BsmtFinType1, BsmtFinType2, Functional, GarageFinish, Fence, YearBuilt, YearRemodAdd, GarageYrBlt, MoSold, YrSold, LowQualFinSF, MiscVal, PoolQC, PoolArea, MSSubClass, MSZoning, LotConfig, Neighborhood, Condition1, BldgType]\n",
      "Index: []\n",
      "\n",
      "[0 rows x 58 columns]\n",
      "Checking NA\n",
      "Empty DataFrame\n",
      "Columns: [LotFrontage, LotArea, MasVnrArea, BsmtFinSF1, BsmtFinSF2, BsmtUnfSF, TotalBsmtSF, 1stFlrSF, 2ndFlrSF, GrLivArea, GarageArea, WoodDeckSF, OpenPorchSF, EnclosedPorch, 3SsnPorch, ScreenPorch, BsmtFullBath, BsmtHalfBath, FullBath, HalfBath, BedroomAbvGr, KitchenAbvGr, TotRmsAbvGrd, Fireplaces, GarageCars, CentralAir, OverallQual, OverallCond, ExterQual, ExterCond, BsmtQual, BsmtCond, HeatingQC, KitchenQual, FireplaceQu, GarageQual, GarageCond, BsmtExposure, BsmtFinType1, BsmtFinType2, Functional, GarageFinish, Fence, YearBuilt, YearRemodAdd, GarageYrBlt, MoSold, YrSold, LowQualFinSF, MiscVal, PoolQC, PoolArea, MSSubClass, MSZoning, LotConfig, Neighborhood, Condition1, BldgType, HouseStyle]\n",
      "Index: []\n",
      "\n",
      "[0 rows x 59 columns]\n",
      "Checking NA\n",
      "Empty DataFrame\n",
      "Columns: [LotFrontage, LotArea, MasVnrArea, BsmtFinSF1, BsmtFinSF2, BsmtUnfSF, TotalBsmtSF, 1stFlrSF, 2ndFlrSF, GrLivArea, GarageArea, WoodDeckSF, OpenPorchSF, EnclosedPorch, 3SsnPorch, ScreenPorch, BsmtFullBath, BsmtHalfBath, FullBath, HalfBath, BedroomAbvGr, KitchenAbvGr, TotRmsAbvGrd, Fireplaces, GarageCars, CentralAir, OverallQual, OverallCond, ExterQual, ExterCond, BsmtQual, BsmtCond, HeatingQC, KitchenQual, FireplaceQu, GarageQual, GarageCond, BsmtExposure, BsmtFinType1, BsmtFinType2, Functional, GarageFinish, Fence, YearBuilt, YearRemodAdd, GarageYrBlt, MoSold, YrSold, LowQualFinSF, MiscVal, PoolQC, PoolArea, MSSubClass, MSZoning, LotConfig, Neighborhood, Condition1, BldgType, HouseStyle, RoofStyle]\n",
      "Index: []\n",
      "\n",
      "[0 rows x 60 columns]\n",
      "Checking NA\n",
      "Empty DataFrame\n",
      "Columns: [LotFrontage, LotArea, MasVnrArea, BsmtFinSF1, BsmtFinSF2, BsmtUnfSF, TotalBsmtSF, 1stFlrSF, 2ndFlrSF, GrLivArea, GarageArea, WoodDeckSF, OpenPorchSF, EnclosedPorch, 3SsnPorch, ScreenPorch, BsmtFullBath, BsmtHalfBath, FullBath, HalfBath, BedroomAbvGr, KitchenAbvGr, TotRmsAbvGrd, Fireplaces, GarageCars, CentralAir, OverallQual, OverallCond, ExterQual, ExterCond, BsmtQual, BsmtCond, HeatingQC, KitchenQual, FireplaceQu, GarageQual, GarageCond, BsmtExposure, BsmtFinType1, BsmtFinType2, Functional, GarageFinish, Fence, YearBuilt, YearRemodAdd, GarageYrBlt, MoSold, YrSold, LowQualFinSF, MiscVal, PoolQC, PoolArea, MSSubClass, MSZoning, LotConfig, Neighborhood, Condition1, BldgType, HouseStyle, RoofStyle, Exterior1st]\n",
      "Index: []\n",
      "\n",
      "[0 rows x 61 columns]\n",
      "Checking NA\n",
      "Empty DataFrame\n",
      "Columns: [LotFrontage, LotArea, MasVnrArea, BsmtFinSF1, BsmtFinSF2, BsmtUnfSF, TotalBsmtSF, 1stFlrSF, 2ndFlrSF, GrLivArea, GarageArea, WoodDeckSF, OpenPorchSF, EnclosedPorch, 3SsnPorch, ScreenPorch, BsmtFullBath, BsmtHalfBath, FullBath, HalfBath, BedroomAbvGr, KitchenAbvGr, TotRmsAbvGrd, Fireplaces, GarageCars, CentralAir, OverallQual, OverallCond, ExterQual, ExterCond, BsmtQual, BsmtCond, HeatingQC, KitchenQual, FireplaceQu, GarageQual, GarageCond, BsmtExposure, BsmtFinType1, BsmtFinType2, Functional, GarageFinish, Fence, YearBuilt, YearRemodAdd, GarageYrBlt, MoSold, YrSold, LowQualFinSF, MiscVal, PoolQC, PoolArea, MSSubClass, MSZoning, LotConfig, Neighborhood, Condition1, BldgType, HouseStyle, RoofStyle, Exterior1st, Exterior2nd]\n",
      "Index: []\n",
      "\n",
      "[0 rows x 62 columns]\n",
      "Checking NA\n",
      "Empty DataFrame\n",
      "Columns: [LotFrontage, LotArea, MasVnrArea, BsmtFinSF1, BsmtFinSF2, BsmtUnfSF, TotalBsmtSF, 1stFlrSF, 2ndFlrSF, GrLivArea, GarageArea, WoodDeckSF, OpenPorchSF, EnclosedPorch, 3SsnPorch, ScreenPorch, BsmtFullBath, BsmtHalfBath, FullBath, HalfBath, BedroomAbvGr, KitchenAbvGr, TotRmsAbvGrd, Fireplaces, GarageCars, CentralAir, OverallQual, OverallCond, ExterQual, ExterCond, BsmtQual, BsmtCond, HeatingQC, KitchenQual, FireplaceQu, GarageQual, GarageCond, BsmtExposure, BsmtFinType1, BsmtFinType2, Functional, GarageFinish, Fence, YearBuilt, YearRemodAdd, GarageYrBlt, MoSold, YrSold, LowQualFinSF, MiscVal, PoolQC, PoolArea, MSSubClass, MSZoning, LotConfig, Neighborhood, Condition1, BldgType, HouseStyle, RoofStyle, Exterior1st, Exterior2nd, MasVnrType]\n",
      "Index: []\n",
      "\n",
      "[0 rows x 63 columns]\n",
      "Checking NA\n",
      "Empty DataFrame\n",
      "Columns: [LotFrontage, LotArea, MasVnrArea, BsmtFinSF1, BsmtFinSF2, BsmtUnfSF, TotalBsmtSF, 1stFlrSF, 2ndFlrSF, GrLivArea, GarageArea, WoodDeckSF, OpenPorchSF, EnclosedPorch, 3SsnPorch, ScreenPorch, BsmtFullBath, BsmtHalfBath, FullBath, HalfBath, BedroomAbvGr, KitchenAbvGr, TotRmsAbvGrd, Fireplaces, GarageCars, CentralAir, OverallQual, OverallCond, ExterQual, ExterCond, BsmtQual, BsmtCond, HeatingQC, KitchenQual, FireplaceQu, GarageQual, GarageCond, BsmtExposure, BsmtFinType1, BsmtFinType2, Functional, GarageFinish, Fence, YearBuilt, YearRemodAdd, GarageYrBlt, MoSold, YrSold, LowQualFinSF, MiscVal, PoolQC, PoolArea, MSSubClass, MSZoning, LotConfig, Neighborhood, Condition1, BldgType, HouseStyle, RoofStyle, Exterior1st, Exterior2nd, MasVnrType, Foundation]\n",
      "Index: []\n",
      "\n",
      "[0 rows x 64 columns]\n",
      "Checking NA\n",
      "Empty DataFrame\n",
      "Columns: [LotFrontage, LotArea, MasVnrArea, BsmtFinSF1, BsmtFinSF2, BsmtUnfSF, TotalBsmtSF, 1stFlrSF, 2ndFlrSF, GrLivArea, GarageArea, WoodDeckSF, OpenPorchSF, EnclosedPorch, 3SsnPorch, ScreenPorch, BsmtFullBath, BsmtHalfBath, FullBath, HalfBath, BedroomAbvGr, KitchenAbvGr, TotRmsAbvGrd, Fireplaces, GarageCars, CentralAir, OverallQual, OverallCond, ExterQual, ExterCond, BsmtQual, BsmtCond, HeatingQC, KitchenQual, FireplaceQu, GarageQual, GarageCond, BsmtExposure, BsmtFinType1, BsmtFinType2, Functional, GarageFinish, Fence, YearBuilt, YearRemodAdd, GarageYrBlt, MoSold, YrSold, LowQualFinSF, MiscVal, PoolQC, PoolArea, MSSubClass, MSZoning, LotConfig, Neighborhood, Condition1, BldgType, HouseStyle, RoofStyle, Exterior1st, Exterior2nd, MasVnrType, Foundation, SaleType]\n",
      "Index: []\n",
      "\n",
      "[0 rows x 65 columns]\n",
      "Checking NA\n",
      "Empty DataFrame\n",
      "Columns: [LotFrontage, LotArea, MasVnrArea, BsmtFinSF1, BsmtFinSF2, BsmtUnfSF, TotalBsmtSF, 1stFlrSF, 2ndFlrSF, GrLivArea, GarageArea, WoodDeckSF, OpenPorchSF, EnclosedPorch, 3SsnPorch, ScreenPorch, BsmtFullBath, BsmtHalfBath, FullBath, HalfBath, BedroomAbvGr, KitchenAbvGr, TotRmsAbvGrd, Fireplaces, GarageCars, CentralAir, OverallQual, OverallCond, ExterQual, ExterCond, BsmtQual, BsmtCond, HeatingQC, KitchenQual, FireplaceQu, GarageQual, GarageCond, BsmtExposure, BsmtFinType1, BsmtFinType2, Functional, GarageFinish, Fence, YearBuilt, YearRemodAdd, GarageYrBlt, MoSold, YrSold, LowQualFinSF, MiscVal, PoolQC, PoolArea, MSSubClass, MSZoning, LotConfig, Neighborhood, Condition1, BldgType, HouseStyle, RoofStyle, Exterior1st, Exterior2nd, MasVnrType, Foundation, SaleType, SaleCondition]\n",
      "Index: []\n",
      "\n",
      "[0 rows x 66 columns]\n",
      "('Training set size:', (1456, 110))\n",
      "('Training set index:', Int64Index([   1,    2,    3,    4,    5,    6,    7,    8,    9,   10,\n",
      "            ...\n",
      "            1451, 1452, 1453, 1454, 1455, 1456, 1457, 1458, 1459, 1460],\n",
      "           dtype='int64', name=u'Id', length=1456))\n",
      "('Test set size:', (1459, 110))\n",
      "('Test set index:', Int64Index([1461, 1462, 1463, 1464, 1465, 1466, 1467, 1468, 1469, 1470,\n",
      "            ...\n",
      "            2910, 2911, 2912, 2913, 2914, 2915, 2916, 2917, 2918, 2919],\n",
      "           dtype='int64', name=u'Id', length=1459))\n"
     ]
    }
   ],
   "source": [
    "# Used to convert categorical features into ordinal numbers.\n",
    "# (There's probably an easier way to do this, but it works.)\n",
    "le = LabelEncoder()\n",
    "\n",
    "test_df_munged = munge(test_filled)\n",
    "test_df_munged.index=test_filled.index\n",
    "train_df_munged = munge(train_filled)\n",
    "train_df_munged.index=train_filled.index\n",
    "\n",
    "print('Training set size:', train_df_munged.shape)\n",
    "print('Training set index:',train_df_munged.index)\n",
    "print('Test set size:', test_df_munged.shape)\n",
    "print('Test set index:',test_df_munged.index)\n"
   ]
  },
  {
   "cell_type": "code",
   "execution_count": 80,
   "metadata": {
    "collapsed": true
   },
   "outputs": [],
   "source": [
    "# Copy NeighborhoodBin into a temporary DataFrame because we want to use the\n",
    "# unscaled version later on (to one-hot encode it). \n",
    "neighborhood_bin_train = pd.DataFrame(index = train_df.index)\n",
    "neighborhood_bin_train['NeighborhoodBin'] = train_df_munged['NeighborhoodBin']\n",
    "neighborhood_bin_test = pd.DataFrame(index = test_df.index)\n",
    "neighborhood_bin_test['NeighborhoodBin'] = test_df_munged['NeighborhoodBin']"
   ]
  },
  {
   "cell_type": "code",
   "execution_count": 81,
   "metadata": {
    "collapsed": false
   },
   "outputs": [
    {
     "name": "stdout",
     "output_type": "stream",
     "text": [
      "Checking NA before anything starts\n",
      "Numeric features:  Index([u'LotFrontage', u'LotArea', u'MasVnrArea', u'BsmtFinSF1', u'BsmtFinSF2',\n",
      "       u'BsmtUnfSF', u'TotalBsmtSF', u'1stFlrSF', u'2ndFlrSF', u'GrLivArea',\n",
      "       ...\n",
      "       u'SimplFunctional', u'SimplKitchenQual', u'SimplHeatingQC',\n",
      "       u'SimplBsmtFinType1', u'SimplBsmtFinType2', u'SimplBsmtCond',\n",
      "       u'SimplBsmtQual', u'SimplExterCond', u'SimplExterQual',\n",
      "       u'NeighborhoodBin'],\n",
      "      dtype='object', length=110)\n",
      "Checking training set\n",
      "Checking test set\n",
      "Columns that still needs NA handling\n",
      "[]\n"
     ]
    }
   ],
   "source": [
    "# Before transforming, check if there are any NA\n",
    "print 'Checking NA before anything starts'\n",
    "numeric_features = test_df_munged.dtypes[test_df_munged.dtypes != 'object'].index\n",
    "print 'Numeric features: ',\n",
    "print numeric_features\n",
    "\n",
    "print 'Checking training set'\n",
    "empty_columns_train=check_nan(train_df_munged,numeric_features)\n",
    "print 'Checking test set'\n",
    "empty_columns_test=check_nan(test_df_munged,numeric_features)\n",
    "\n",
    "# Output the set that still needs handling\n",
    "still_na=list(set(empty_columns_train) | set(empty_columns_test))\n",
    "print 'Columns that still needs NA handling'\n",
    "print still_na"
   ]
  },
  {
   "cell_type": "code",
   "execution_count": 82,
   "metadata": {
    "collapsed": false
   },
   "outputs": [],
   "source": [
    "# Transform the skewed numeric features by taking log(feature + 1).\n",
    "# This will make the features more normal.\n",
    "skewed = train_df_munged[numeric_features].apply(lambda x: skew(x.dropna().astype(float)))\n",
    "skewed = skewed[skewed > 0.8]\n",
    "skewed = skewed.index\n",
    "\n",
    "train_df_munged[skewed] = np.log1p(train_df_munged[skewed])\n",
    "test_df_munged[skewed] = np.log1p(test_df_munged[skewed])\n"
   ]
  },
  {
   "cell_type": "code",
   "execution_count": 50,
   "metadata": {
    "collapsed": false
   },
   "outputs": [
    {
     "ename": "ValueError",
     "evalue": "Input contains NaN, infinity or a value too large for dtype('float64').",
     "output_type": "error",
     "traceback": [
      "\u001b[1;31m---------------------------------------------------------------------------\u001b[0m",
      "\u001b[1;31mValueError\u001b[0m                                Traceback (most recent call last)",
      "\u001b[1;32m<ipython-input-50-eabfa7eaff30>\u001b[0m in \u001b[0;36m<module>\u001b[1;34m()\u001b[0m\n\u001b[0;32m      4\u001b[0m \u001b[1;32mfrom\u001b[0m \u001b[0msklearn\u001b[0m\u001b[1;33m.\u001b[0m\u001b[0mpreprocessing\u001b[0m \u001b[1;32mimport\u001b[0m \u001b[0mStandardScaler\u001b[0m\u001b[1;33m,\u001b[0m \u001b[0mRobustScaler\u001b[0m\u001b[1;33m\u001b[0m\u001b[0m\n\u001b[0;32m      5\u001b[0m \u001b[0mscaler\u001b[0m \u001b[1;33m=\u001b[0m \u001b[0mStandardScaler\u001b[0m\u001b[1;33m(\u001b[0m\u001b[1;33m)\u001b[0m\u001b[1;33m\u001b[0m\u001b[0m\n\u001b[1;32m----> 6\u001b[1;33m \u001b[0mscaler\u001b[0m\u001b[1;33m.\u001b[0m\u001b[0mfit\u001b[0m\u001b[1;33m(\u001b[0m\u001b[0mtrain_df_munged\u001b[0m\u001b[1;33m[\u001b[0m\u001b[0mnumeric_features\u001b[0m\u001b[1;33m]\u001b[0m\u001b[1;33m)\u001b[0m\u001b[1;33m\u001b[0m\u001b[0m\n\u001b[0m\u001b[0;32m      7\u001b[0m \u001b[1;33m\u001b[0m\u001b[0m\n\u001b[0;32m      8\u001b[0m \u001b[0mscaled\u001b[0m \u001b[1;33m=\u001b[0m \u001b[0mscaler\u001b[0m\u001b[1;33m.\u001b[0m\u001b[0mtransform\u001b[0m\u001b[1;33m(\u001b[0m\u001b[0mtrain_df_munged\u001b[0m\u001b[1;33m[\u001b[0m\u001b[0mnumeric_features\u001b[0m\u001b[1;33m]\u001b[0m\u001b[1;33m)\u001b[0m\u001b[1;33m\u001b[0m\u001b[0m\n",
      "\u001b[1;32mC:\\Anaconda2\\lib\\site-packages\\sklearn\\preprocessing\\data.pyc\u001b[0m in \u001b[0;36mfit\u001b[1;34m(self, X, y)\u001b[0m\n\u001b[0;32m    558\u001b[0m         \u001b[1;31m# Reset internal state before fitting\u001b[0m\u001b[1;33m\u001b[0m\u001b[1;33m\u001b[0m\u001b[0m\n\u001b[0;32m    559\u001b[0m         \u001b[0mself\u001b[0m\u001b[1;33m.\u001b[0m\u001b[0m_reset\u001b[0m\u001b[1;33m(\u001b[0m\u001b[1;33m)\u001b[0m\u001b[1;33m\u001b[0m\u001b[0m\n\u001b[1;32m--> 560\u001b[1;33m         \u001b[1;32mreturn\u001b[0m \u001b[0mself\u001b[0m\u001b[1;33m.\u001b[0m\u001b[0mpartial_fit\u001b[0m\u001b[1;33m(\u001b[0m\u001b[0mX\u001b[0m\u001b[1;33m,\u001b[0m \u001b[0my\u001b[0m\u001b[1;33m)\u001b[0m\u001b[1;33m\u001b[0m\u001b[0m\n\u001b[0m\u001b[0;32m    561\u001b[0m \u001b[1;33m\u001b[0m\u001b[0m\n\u001b[0;32m    562\u001b[0m     \u001b[1;32mdef\u001b[0m \u001b[0mpartial_fit\u001b[0m\u001b[1;33m(\u001b[0m\u001b[0mself\u001b[0m\u001b[1;33m,\u001b[0m \u001b[0mX\u001b[0m\u001b[1;33m,\u001b[0m \u001b[0my\u001b[0m\u001b[1;33m=\u001b[0m\u001b[0mNone\u001b[0m\u001b[1;33m)\u001b[0m\u001b[1;33m:\u001b[0m\u001b[1;33m\u001b[0m\u001b[0m\n",
      "\u001b[1;32mC:\\Anaconda2\\lib\\site-packages\\sklearn\\preprocessing\\data.pyc\u001b[0m in \u001b[0;36mpartial_fit\u001b[1;34m(self, X, y)\u001b[0m\n\u001b[0;32m    581\u001b[0m         X = check_array(X, accept_sparse=('csr', 'csc'), copy=self.copy,\n\u001b[0;32m    582\u001b[0m                         \u001b[0mensure_2d\u001b[0m\u001b[1;33m=\u001b[0m\u001b[0mFalse\u001b[0m\u001b[1;33m,\u001b[0m \u001b[0mwarn_on_dtype\u001b[0m\u001b[1;33m=\u001b[0m\u001b[0mTrue\u001b[0m\u001b[1;33m,\u001b[0m\u001b[1;33m\u001b[0m\u001b[0m\n\u001b[1;32m--> 583\u001b[1;33m                         estimator=self, dtype=FLOAT_DTYPES)\n\u001b[0m\u001b[0;32m    584\u001b[0m \u001b[1;33m\u001b[0m\u001b[0m\n\u001b[0;32m    585\u001b[0m         \u001b[1;32mif\u001b[0m \u001b[0mX\u001b[0m\u001b[1;33m.\u001b[0m\u001b[0mndim\u001b[0m \u001b[1;33m==\u001b[0m \u001b[1;36m1\u001b[0m\u001b[1;33m:\u001b[0m\u001b[1;33m\u001b[0m\u001b[0m\n",
      "\u001b[1;32mC:\\Anaconda2\\lib\\site-packages\\sklearn\\utils\\validation.pyc\u001b[0m in \u001b[0;36mcheck_array\u001b[1;34m(array, accept_sparse, dtype, order, copy, force_all_finite, ensure_2d, allow_nd, ensure_min_samples, ensure_min_features, warn_on_dtype, estimator)\u001b[0m\n\u001b[0;32m    405\u001b[0m                              % (array.ndim, estimator_name))\n\u001b[0;32m    406\u001b[0m         \u001b[1;32mif\u001b[0m \u001b[0mforce_all_finite\u001b[0m\u001b[1;33m:\u001b[0m\u001b[1;33m\u001b[0m\u001b[0m\n\u001b[1;32m--> 407\u001b[1;33m             \u001b[0m_assert_all_finite\u001b[0m\u001b[1;33m(\u001b[0m\u001b[0marray\u001b[0m\u001b[1;33m)\u001b[0m\u001b[1;33m\u001b[0m\u001b[0m\n\u001b[0m\u001b[0;32m    408\u001b[0m \u001b[1;33m\u001b[0m\u001b[0m\n\u001b[0;32m    409\u001b[0m     \u001b[0mshape_repr\u001b[0m \u001b[1;33m=\u001b[0m \u001b[0m_shape_repr\u001b[0m\u001b[1;33m(\u001b[0m\u001b[0marray\u001b[0m\u001b[1;33m.\u001b[0m\u001b[0mshape\u001b[0m\u001b[1;33m)\u001b[0m\u001b[1;33m\u001b[0m\u001b[0m\n",
      "\u001b[1;32mC:\\Anaconda2\\lib\\site-packages\\sklearn\\utils\\validation.pyc\u001b[0m in \u001b[0;36m_assert_all_finite\u001b[1;34m(X)\u001b[0m\n\u001b[0;32m     56\u001b[0m             and not np.isfinite(X).all()):\n\u001b[0;32m     57\u001b[0m         raise ValueError(\"Input contains NaN, infinity\"\n\u001b[1;32m---> 58\u001b[1;33m                          \" or a value too large for %r.\" % X.dtype)\n\u001b[0m\u001b[0;32m     59\u001b[0m \u001b[1;33m\u001b[0m\u001b[0m\n\u001b[0;32m     60\u001b[0m \u001b[1;33m\u001b[0m\u001b[0m\n",
      "\u001b[1;31mValueError\u001b[0m: Input contains NaN, infinity or a value too large for dtype('float64')."
     ]
    }
   ],
   "source": [
    "# This part doesn't quite work yet\n",
    "\n",
    "# Additional processing: scale the data.   \n",
    "from sklearn.preprocessing import StandardScaler, RobustScaler\n",
    "scaler = StandardScaler()\n",
    "scaler.fit(train_df_munged[numeric_features])\n",
    "\n",
    "scaled = scaler.transform(train_df_munged[numeric_features])\n",
    "for i, col in enumerate(numeric_features):\n",
    "    train_df_munged[col] = scaled[:, i]\n",
    "\n",
    "scaled = scaler.transform(test_df_munged[numeric_features])\n",
    "for i, col in enumerate(numeric_features):\n",
    "    test_df_munged[col] = scaled[:, i]"
   ]
  },
  {
   "cell_type": "code",
   "execution_count": 83,
   "metadata": {
    "collapsed": true
   },
   "outputs": [],
   "source": [
    "# Convert categorical features using one-hot encoding.\n",
    "def onehot(onehot_df, df, column_name, fill_na, drop_name):\n",
    "    onehot_df[column_name] = df[column_name]\n",
    "    if fill_na is not None:\n",
    "        onehot_df[column_name].fillna(fill_na, inplace=True)\n",
    "\n",
    "    dummies = pd.get_dummies(onehot_df[column_name], prefix='_' + column_name)\n",
    "    \n",
    "    # Dropping one of the columns actually made the results slightly worse.\n",
    "    # if drop_name is not None:\n",
    "    #     dummies.drop(['_' + column_name + '_' + drop_name], axis=1, inplace=True)\n",
    "\n",
    "    onehot_df = onehot_df.join(dummies)\n",
    "    onehot_df = onehot_df.drop([column_name], axis=1)\n",
    "    return onehot_df"
   ]
  },
  {
   "cell_type": "code",
   "execution_count": 84,
   "metadata": {
    "collapsed": true
   },
   "outputs": [],
   "source": [
    "def munge_onehot(df):\n",
    "    onehot_df = pd.DataFrame(index = df.index)\n",
    "\n",
    "    onehot_df = onehot(onehot_df, df, 'MSSubClass', None, '40')\n",
    "    onehot_df = onehot(onehot_df, df, 'MSZoning', 'RL', 'RH')\n",
    "    onehot_df = onehot(onehot_df, df, 'LotConfig', None, 'FR3')\n",
    "    onehot_df = onehot(onehot_df, df, 'Neighborhood', None, 'OldTown')\n",
    "    onehot_df = onehot(onehot_df, df, 'Condition1', None, 'RRNe')\n",
    "    onehot_df = onehot(onehot_df, df, 'BldgType', None, '2fmCon')\n",
    "    onehot_df = onehot(onehot_df, df, 'HouseStyle', None, '1.5Unf')\n",
    "    onehot_df = onehot(onehot_df, df, 'RoofStyle', None, 'Shed')\n",
    "    onehot_df = onehot(onehot_df, df, 'Exterior1st', 'VinylSd', 'CBlock')\n",
    "    onehot_df = onehot(onehot_df, df, 'Exterior2nd', 'VinylSd', 'CBlock')\n",
    "    onehot_df = onehot(onehot_df, df, 'Foundation', None, 'Wood')\n",
    "    onehot_df = onehot(onehot_df, df, 'SaleType', 'WD', 'Oth')\n",
    "    onehot_df = onehot(onehot_df, df, 'SaleCondition', 'Normal', 'AdjLand')\n",
    "\n",
    "    # Fill in missing MasVnrType for rows that do have a MasVnrArea.\n",
    "    temp_df = df[['MasVnrType', 'MasVnrArea']].copy()\n",
    "    idx = (df['MasVnrArea'] != 0) & ((df['MasVnrType'] == 'None') | (df['MasVnrType'].isnull()))\n",
    "    temp_df.loc[idx, 'MasVnrType'] = 'BrkFace'\n",
    "    onehot_df = onehot(onehot_df, temp_df, 'MasVnrType', 'None', 'BrkCmn')\n",
    "\n",
    "    # Also add the booleans from calc_df as dummy variables.\n",
    "    onehot_df = onehot(onehot_df, df, 'LotShape', None, 'IR3')\n",
    "    onehot_df = onehot(onehot_df, df, 'LandContour', None, 'Low')\n",
    "    onehot_df = onehot(onehot_df, df, 'LandSlope', None, 'Sev')\n",
    "    onehot_df = onehot(onehot_df, df, 'Electrical', 'SBrkr', 'FuseP')\n",
    "    onehot_df = onehot(onehot_df, df, 'GarageType', 'None', 'CarPort')\n",
    "    onehot_df = onehot(onehot_df, df, 'PavedDrive', None, 'P')\n",
    "    onehot_df = onehot(onehot_df, df, 'MiscFeature', 'None', 'Othr')\n",
    "\n",
    "    # Features we can probably ignore (but want to include anyway to see\n",
    "    # if they make any positive difference).\n",
    "    # Definitely ignoring Utilities: all records are 'AllPub', except for\n",
    "    # one 'NoSeWa' in the train set and 2 NA in the test set.\n",
    "    onehot_df = onehot(onehot_df, df, 'Street', None, 'Grvl')\n",
    "    onehot_df = onehot(onehot_df, df, 'Alley', 'None', 'Grvl')\n",
    "    onehot_df = onehot(onehot_df, df, 'Condition2', None, 'PosA')\n",
    "    onehot_df = onehot(onehot_df, df, 'RoofMatl', None, 'WdShake')\n",
    "    onehot_df = onehot(onehot_df, df, 'Heating', None, 'Wall')\n",
    "\n",
    "    # I have these as numerical variables too.\n",
    "    onehot_df = onehot(onehot_df, df, 'ExterQual', 'None', 'Ex')\n",
    "    onehot_df = onehot(onehot_df, df, 'ExterCond', 'None', 'Ex')\n",
    "    onehot_df = onehot(onehot_df, df, 'BsmtQual', 'None', 'Ex')\n",
    "    onehot_df = onehot(onehot_df, df, 'BsmtCond', 'None', 'Ex')\n",
    "    onehot_df = onehot(onehot_df, df, 'HeatingQC', 'None', 'Ex')\n",
    "    onehot_df = onehot(onehot_df, df, 'KitchenQual', 'TA', 'Ex')\n",
    "    onehot_df = onehot(onehot_df, df, 'FireplaceQu', 'None', 'Ex')\n",
    "    onehot_df = onehot(onehot_df, df, 'GarageQual', 'None', 'Ex')\n",
    "    onehot_df = onehot(onehot_df, df, 'GarageCond', 'None', 'Ex')\n",
    "    onehot_df = onehot(onehot_df, df, 'PoolQC', 'None', 'Ex')\n",
    "    onehot_df = onehot(onehot_df, df, 'BsmtExposure', 'None', 'Gd')\n",
    "    onehot_df = onehot(onehot_df, df, 'BsmtFinType1', 'None', 'GLQ')\n",
    "    onehot_df = onehot(onehot_df, df, 'BsmtFinType2', 'None', 'GLQ')\n",
    "    onehot_df = onehot(onehot_df, df, 'Functional', 'Typ', 'Typ')\n",
    "    onehot_df = onehot(onehot_df, df, 'GarageFinish', 'None', 'Fin')\n",
    "    onehot_df = onehot(onehot_df, df, 'Fence', 'None', 'MnPrv')\n",
    "    onehot_df = onehot(onehot_df, df, 'MoSold', None, None)\n",
    "    \n",
    "    # Divide up the years between 1871 and 2010 in slices of 20 years.\n",
    "    year_map = pd.concat(pd.Series('YearBin' + str(i+1), index=range(1871+i*20,1891+i*20)) for i in range(0, 7))\n",
    "\n",
    "    yearbin_df = pd.DataFrame(index = df.index)\n",
    "    yearbin_df['GarageYrBltBin'] = df.GarageYrBlt.map(year_map)\n",
    "    # yearbin_df['GarageYrBltBin'].fillna('NoGarage', inplace=True)\n",
    "    yearbin_df['GarageYrBltBin'].fillna('Unknown', inplace=True)\n",
    "\n",
    "    yearbin_df['YearBuiltBin'] = df.YearBuilt.map(year_map)\n",
    "    yearbin_df['YearRemodAddBin'] = df.YearRemodAdd.map(year_map)\n",
    "    \n",
    "    onehot_df = onehot(onehot_df, yearbin_df, 'GarageYrBltBin', None, None)\n",
    "    onehot_df = onehot(onehot_df, yearbin_df, 'YearBuiltBin', None, None)\n",
    "    onehot_df = onehot(onehot_df, yearbin_df, 'YearRemodAddBin', None, None)\n",
    "\n",
    "    return onehot_df"
   ]
  },
  {
   "cell_type": "code",
   "execution_count": 85,
   "metadata": {
    "collapsed": true
   },
   "outputs": [],
   "source": [
    "# Add the one-hot encoded categorical features.\n",
    "onehot_df = munge_onehot(train_filled)\n",
    "onehot_df = onehot(onehot_df, neighborhood_bin_train, 'NeighborhoodBin', None, None)\n",
    "train_df_munged = train_df_munged.join(onehot_df)"
   ]
  },
  {
   "cell_type": "code",
   "execution_count": 86,
   "metadata": {
    "collapsed": true
   },
   "outputs": [],
   "source": [
    "# These onehot columns are missing in the test data, so drop them from the\n",
    "# training data or we might overfit on them.\n",
    "drop_cols = [\n",
    "                '_Exterior1st_ImStucc', '_Exterior1st_Stone',\n",
    "                '_Exterior2nd_Other','_HouseStyle_2.5Fin', \n",
    "            \n",
    "                '_RoofMatl_Membran', '_RoofMatl_Metal', '_RoofMatl_Roll',\n",
    "                '_Condition2_RRAe', '_Condition2_RRAn', '_Condition2_RRNn',\n",
    "                '_Heating_Floor', '_Heating_OthW',\n",
    "\n",
    "                '_Electrical_Mix', \n",
    "                '_MiscFeature_TenC',\n",
    "                '_GarageQual_Ex', '_PoolQC_Fa'\n",
    "            ]\n",
    "train_df_munged.drop(drop_cols, axis=1, inplace=True)"
   ]
  },
  {
   "cell_type": "code",
   "execution_count": 87,
   "metadata": {
    "collapsed": true
   },
   "outputs": [],
   "source": [
    "onehot_df = munge_onehot(test_filled)\n",
    "onehot_df = onehot(onehot_df, neighborhood_bin_test, 'NeighborhoodBin', None, None)\n",
    "test_df_munged = test_df_munged.join(onehot_df)\n",
    "\n",
    "# This column is missing in the training data. There is only one example with\n",
    "# this value in the test set. So just drop it.\n",
    "test_df_munged.drop(['_MSSubClass_150'], axis=1, inplace=True)"
   ]
  },
  {
   "cell_type": "code",
   "execution_count": 88,
   "metadata": {
    "collapsed": true
   },
   "outputs": [],
   "source": [
    "# Drop these columns. They are either not very helpful or they cause overfitting.\n",
    "drop_cols = [\n",
    "    '_Condition2_PosN',    # only two are not zero\n",
    "    '_MSZoning_C (all)',\n",
    "    '_MSSubClass_160',\n",
    "]\n",
    "# Realy overfit!\n",
    "train_df_munged.drop(drop_cols, axis=1, inplace=True)\n",
    "test_df_munged.drop(drop_cols, axis=1, inplace=True)"
   ]
  },
  {
   "cell_type": "code",
   "execution_count": 95,
   "metadata": {
    "collapsed": false
   },
   "outputs": [],
   "source": [
    "# Add a few columns to ensure train and test have the same shape\n",
    "fake_in_train=['_Functional_NA', '_KitchenQual_NA', '_Exterior1st_Other', \n",
    "               '_GarageYrBltBin_Unknown', '_Exterior2nd_Other']\n",
    "for f in fake_in_train:\n",
    "    train_df_munged[f]=0\n",
    "fake_in_test=['_Electrical_NA']\n",
    "for f in fake_in_test:\n",
    "    test_df_munged[f]=0\n",
    "    \n",
    "# Handle naming issue\n",
    "train_df_munged=train_df_munged.rename(index=str, columns={\"_NeighborhoodBin_0.0\": \"_NeighborhoodBin_0\", \"_NeighborhoodBin_1.0\": \"_NeighborhoodBin_1\",\n",
    "                                          \"_NeighborhoodBin_2.0\": \"_NeighborhoodBin_2\",\"_NeighborhoodBin_3.0\": \"_NeighborhoodBin_3\",\n",
    "                                          \"_NeighborhoodBin_4.0\": \"_NeighborhoodBin_4\"})\n",
    "\n"
   ]
  },
  {
   "cell_type": "code",
   "execution_count": 96,
   "metadata": {
    "collapsed": true
   },
   "outputs": [],
   "source": [
    "# Add SalePrice column to training set\n",
    "train_df_munged['SalePrice']=train_target"
   ]
  },
  {
   "cell_type": "code",
   "execution_count": 97,
   "metadata": {
    "collapsed": false
   },
   "outputs": [
    {
     "name": "stdout",
     "output_type": "stream",
     "text": [
      "(1456, 408)\n",
      "(1459, 407)\n"
     ]
    }
   ],
   "source": [
    "print train_df_munged.shape\n",
    "print test_df_munged.shape"
   ]
  },
  {
   "cell_type": "code",
   "execution_count": 98,
   "metadata": {
    "collapsed": false
   },
   "outputs": [],
   "source": [
    "# Output \n",
    "train_df_munged.to_csv(base_path+'paragon_train.csv')\n",
    "test_df_munged.to_csv(base_path+'paragon_test.csv')"
   ]
  },
  {
   "cell_type": "code",
   "execution_count": null,
   "metadata": {
    "collapsed": true
   },
   "outputs": [],
   "source": []
  }
 ],
 "metadata": {
  "kernelspec": {
   "display_name": "Python 2",
   "language": "python",
   "name": "python2"
  },
  "language_info": {
   "codemirror_mode": {
    "name": "ipython",
    "version": 2
   },
   "file_extension": ".py",
   "mimetype": "text/x-python",
   "name": "python",
   "nbconvert_exporter": "python",
   "pygments_lexer": "ipython2",
   "version": "2.7.12"
  }
 },
 "nbformat": 4,
 "nbformat_minor": 0
}
